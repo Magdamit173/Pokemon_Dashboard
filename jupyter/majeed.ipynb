{
 "cells": [
  {
   "cell_type": "code",
   "execution_count": 5,
   "id": "0cfee19d-8571-4487-8ec2-3ebe6919cd1c",
   "metadata": {},
   "outputs": [
    {
     "name": "stdout",
     "output_type": "stream",
     "text": [
      "✅ Scatter plot saved as pokemon_speed_attack.png\n"
     ]
    }
   ],
   "source": [
    "import pandas as pd\n",
    "import matplotlib.pyplot as plt\n",
    "import numpy as np\n",
    "\n",
    "def save_speed_vs_attack_image(file_path, output_image=\"pokemon_speed_attack.png\"):\n",
    "    # Load CSV file\n",
    "    df = pd.read_csv(file_path)\n",
    "\n",
    "    # Extract necessary columns\n",
    "    x = df[\"attack\"]\n",
    "    y = df[\"speed\"]\n",
    "\n",
    "    # Create scatter plot\n",
    "    plt.figure(figsize=(10, 6))\n",
    "    plt.scatter(x, y, alpha=0.7, edgecolor='k', label=\"Pokémon Data\")\n",
    "\n",
    "    # Add regression line (trendline)\n",
    "    m, b = np.polyfit(x, y, 1)  # Linear regression\n",
    "    plt.plot(x, m*x + b, color='red', linestyle=\"--\", linewidth=2, label=\"Trendline\")\n",
    "\n",
    "    # Labels & Grid\n",
    "    plt.title(\"Pokémon Speed vs. Attack\", fontsize=14, fontweight=\"bold\")\n",
    "    plt.xlabel(\"Attack\", fontsize=12)\n",
    "    plt.ylabel(\"Speed\", fontsize=12)\n",
    "    plt.grid(True, linestyle=\"--\", alpha=0.6)\n",
    "    plt.legend()\n",
    "\n",
    "    # Save as image file\n",
    "    plt.savefig(output_image, format=\"png\", bbox_inches=\"tight\")\n",
    "    plt.close()\n",
    "\n",
    "    print(f\"✅ Scatter plot saved as {output_image}\")\n",
    "\n",
    "# Example usage:\n",
    "save_speed_vs_attack_image(\"pokemon.csv\")\n"
   ]
  },
  {
   "cell_type": "code",
   "execution_count": null,
   "id": "f45baa0c-ff9a-49e3-9a15-2385970996e8",
   "metadata": {},
   "outputs": [],
   "source": []
  }
 ],
 "metadata": {
  "kernelspec": {
   "display_name": "Python 3 (ipykernel)",
   "language": "python",
   "name": "python3"
  },
  "language_info": {
   "codemirror_mode": {
    "name": "ipython",
    "version": 3
   },
   "file_extension": ".py",
   "mimetype": "text/x-python",
   "name": "python",
   "nbconvert_exporter": "python",
   "pygments_lexer": "ipython3",
   "version": "3.12.1"
  }
 },
 "nbformat": 4,
 "nbformat_minor": 5
}
