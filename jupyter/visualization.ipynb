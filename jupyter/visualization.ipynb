{
 "cells": [
  {
   "cell_type": "code",
   "execution_count": 1,
   "id": "a0284975-3fa6-47ae-a258-802e982393fd",
   "metadata": {},
   "outputs": [],
   "source": [
    "import pandas as pd \n",
    "import seaborn as sns\n",
    "from io import StringIO\n",
    "import numpy as np \n",
    "import matplotlib.pyplot as plt\n"
   ]
  },
  {
   "cell_type": "code",
   "execution_count": 2,
   "id": "36026b19-a3e9-4eeb-8ad7-e69351728cb3",
   "metadata": {},
   "outputs": [
    {
     "data": {
      "text/html": [
       "<div>\n",
       "<style scoped>\n",
       "    .dataframe tbody tr th:only-of-type {\n",
       "        vertical-align: middle;\n",
       "    }\n",
       "\n",
       "    .dataframe tbody tr th {\n",
       "        vertical-align: top;\n",
       "    }\n",
       "\n",
       "    .dataframe thead th {\n",
       "        text-align: right;\n",
       "    }\n",
       "</style>\n",
       "<table border=\"1\" class=\"dataframe\">\n",
       "  <thead>\n",
       "    <tr style=\"text-align: right;\">\n",
       "      <th></th>\n",
       "      <th>national_number</th>\n",
       "      <th>generation</th>\n",
       "      <th>english_name</th>\n",
       "      <th>japanese_name</th>\n",
       "      <th>primary_type</th>\n",
       "      <th>secondary_type</th>\n",
       "      <th>classification</th>\n",
       "      <th>percent_male</th>\n",
       "      <th>percent_female</th>\n",
       "      <th>height_m</th>\n",
       "      <th>...</th>\n",
       "      <th>evochain_1</th>\n",
       "      <th>evochain_2</th>\n",
       "      <th>evochain_3</th>\n",
       "      <th>evochain_4</th>\n",
       "      <th>evochain_5</th>\n",
       "      <th>evochain_6</th>\n",
       "      <th>gigantamax</th>\n",
       "      <th>mega_evolution</th>\n",
       "      <th>mega_evolution_alt</th>\n",
       "      <th>description</th>\n",
       "    </tr>\n",
       "  </thead>\n",
       "  <tbody>\n",
       "    <tr>\n",
       "      <th>0</th>\n",
       "      <td>1</td>\n",
       "      <td>I</td>\n",
       "      <td>Bulbasaur</td>\n",
       "      <td>Fushigidane</td>\n",
       "      <td>grass</td>\n",
       "      <td>poison</td>\n",
       "      <td>Seed Pokémon</td>\n",
       "      <td>88.14</td>\n",
       "      <td>11.86</td>\n",
       "      <td>0.7</td>\n",
       "      <td>...</td>\n",
       "      <td>Level</td>\n",
       "      <td>Ivysaur</td>\n",
       "      <td>Level</td>\n",
       "      <td>Venusaur</td>\n",
       "      <td>NaN</td>\n",
       "      <td>NaN</td>\n",
       "      <td>NaN</td>\n",
       "      <td>NaN</td>\n",
       "      <td>NaN</td>\n",
       "      <td>There is a plant seed on its back right from t...</td>\n",
       "    </tr>\n",
       "    <tr>\n",
       "      <th>1</th>\n",
       "      <td>2</td>\n",
       "      <td>I</td>\n",
       "      <td>Ivysaur</td>\n",
       "      <td>Fushigisou</td>\n",
       "      <td>grass</td>\n",
       "      <td>poison</td>\n",
       "      <td>Seed Pokémon</td>\n",
       "      <td>88.14</td>\n",
       "      <td>11.86</td>\n",
       "      <td>1.0</td>\n",
       "      <td>...</td>\n",
       "      <td>Level</td>\n",
       "      <td>Ivysaur</td>\n",
       "      <td>Level</td>\n",
       "      <td>Venusaur</td>\n",
       "      <td>NaN</td>\n",
       "      <td>NaN</td>\n",
       "      <td>NaN</td>\n",
       "      <td>NaN</td>\n",
       "      <td>NaN</td>\n",
       "      <td>When the bulb on its back grows large, it appe...</td>\n",
       "    </tr>\n",
       "    <tr>\n",
       "      <th>2</th>\n",
       "      <td>3</td>\n",
       "      <td>I</td>\n",
       "      <td>Venusaur</td>\n",
       "      <td>Fushigibana</td>\n",
       "      <td>grass</td>\n",
       "      <td>poison</td>\n",
       "      <td>Seed Pokémon</td>\n",
       "      <td>88.14</td>\n",
       "      <td>11.86</td>\n",
       "      <td>2.0</td>\n",
       "      <td>...</td>\n",
       "      <td>Level</td>\n",
       "      <td>Ivysaur</td>\n",
       "      <td>Level</td>\n",
       "      <td>Venusaur</td>\n",
       "      <td>NaN</td>\n",
       "      <td>NaN</td>\n",
       "      <td>Gigantamax Venusaur</td>\n",
       "      <td>Mega Venusaur</td>\n",
       "      <td>NaN</td>\n",
       "      <td>Its plant blooms when it is absorbing solar en...</td>\n",
       "    </tr>\n",
       "    <tr>\n",
       "      <th>3</th>\n",
       "      <td>4</td>\n",
       "      <td>I</td>\n",
       "      <td>Charmander</td>\n",
       "      <td>Hitokage</td>\n",
       "      <td>fire</td>\n",
       "      <td>NaN</td>\n",
       "      <td>Lizard Pokémon</td>\n",
       "      <td>88.14</td>\n",
       "      <td>11.86</td>\n",
       "      <td>0.6</td>\n",
       "      <td>...</td>\n",
       "      <td>Level</td>\n",
       "      <td>Charmeleon</td>\n",
       "      <td>Level</td>\n",
       "      <td>Charizard</td>\n",
       "      <td>NaN</td>\n",
       "      <td>NaN</td>\n",
       "      <td>NaN</td>\n",
       "      <td>NaN</td>\n",
       "      <td>NaN</td>\n",
       "      <td>It has a preference for hot things. When it ra...</td>\n",
       "    </tr>\n",
       "    <tr>\n",
       "      <th>4</th>\n",
       "      <td>5</td>\n",
       "      <td>I</td>\n",
       "      <td>Charmeleon</td>\n",
       "      <td>Lizardo</td>\n",
       "      <td>fire</td>\n",
       "      <td>NaN</td>\n",
       "      <td>Flame Pokémon</td>\n",
       "      <td>88.14</td>\n",
       "      <td>11.86</td>\n",
       "      <td>1.1</td>\n",
       "      <td>...</td>\n",
       "      <td>Level</td>\n",
       "      <td>Charmeleon</td>\n",
       "      <td>Level</td>\n",
       "      <td>Charizard</td>\n",
       "      <td>NaN</td>\n",
       "      <td>NaN</td>\n",
       "      <td>NaN</td>\n",
       "      <td>NaN</td>\n",
       "      <td>NaN</td>\n",
       "      <td>It has a barbaric nature. In battle, it whips ...</td>\n",
       "    </tr>\n",
       "    <tr>\n",
       "      <th>...</th>\n",
       "      <td>...</td>\n",
       "      <td>...</td>\n",
       "      <td>...</td>\n",
       "      <td>...</td>\n",
       "      <td>...</td>\n",
       "      <td>...</td>\n",
       "      <td>...</td>\n",
       "      <td>...</td>\n",
       "      <td>...</td>\n",
       "      <td>...</td>\n",
       "      <td>...</td>\n",
       "      <td>...</td>\n",
       "      <td>...</td>\n",
       "      <td>...</td>\n",
       "      <td>...</td>\n",
       "      <td>...</td>\n",
       "      <td>...</td>\n",
       "      <td>...</td>\n",
       "      <td>...</td>\n",
       "      <td>...</td>\n",
       "      <td>...</td>\n",
       "    </tr>\n",
       "    <tr>\n",
       "      <th>893</th>\n",
       "      <td>894</td>\n",
       "      <td>VIII</td>\n",
       "      <td>Regieleki</td>\n",
       "      <td>Regieleki</td>\n",
       "      <td>electric</td>\n",
       "      <td>NaN</td>\n",
       "      <td>Electron Pokémon</td>\n",
       "      <td>NaN</td>\n",
       "      <td>NaN</td>\n",
       "      <td>1.2</td>\n",
       "      <td>...</td>\n",
       "      <td>NaN</td>\n",
       "      <td>NaN</td>\n",
       "      <td>NaN</td>\n",
       "      <td>NaN</td>\n",
       "      <td>NaN</td>\n",
       "      <td>NaN</td>\n",
       "      <td>NaN</td>\n",
       "      <td>NaN</td>\n",
       "      <td>NaN</td>\n",
       "      <td>This Pokémon is a cluster of electrical energy...</td>\n",
       "    </tr>\n",
       "    <tr>\n",
       "      <th>894</th>\n",
       "      <td>895</td>\n",
       "      <td>VIII</td>\n",
       "      <td>Regidrago</td>\n",
       "      <td>Regidrago</td>\n",
       "      <td>dragon</td>\n",
       "      <td>NaN</td>\n",
       "      <td>Dragon Orb Pokémon</td>\n",
       "      <td>NaN</td>\n",
       "      <td>NaN</td>\n",
       "      <td>2.1</td>\n",
       "      <td>...</td>\n",
       "      <td>NaN</td>\n",
       "      <td>NaN</td>\n",
       "      <td>NaN</td>\n",
       "      <td>NaN</td>\n",
       "      <td>NaN</td>\n",
       "      <td>NaN</td>\n",
       "      <td>NaN</td>\n",
       "      <td>NaN</td>\n",
       "      <td>NaN</td>\n",
       "      <td>An academic theory proposes that Regidrago’s a...</td>\n",
       "    </tr>\n",
       "    <tr>\n",
       "      <th>895</th>\n",
       "      <td>896</td>\n",
       "      <td>VIII</td>\n",
       "      <td>Glastrier</td>\n",
       "      <td>Blizapos</td>\n",
       "      <td>ice</td>\n",
       "      <td>NaN</td>\n",
       "      <td>Wild Horse Pokémon</td>\n",
       "      <td>NaN</td>\n",
       "      <td>NaN</td>\n",
       "      <td>2.2</td>\n",
       "      <td>...</td>\n",
       "      <td>NaN</td>\n",
       "      <td>NaN</td>\n",
       "      <td>NaN</td>\n",
       "      <td>NaN</td>\n",
       "      <td>NaN</td>\n",
       "      <td>NaN</td>\n",
       "      <td>NaN</td>\n",
       "      <td>NaN</td>\n",
       "      <td>NaN</td>\n",
       "      <td>Glastrier emits intense cold from its hooves. ...</td>\n",
       "    </tr>\n",
       "    <tr>\n",
       "      <th>896</th>\n",
       "      <td>897</td>\n",
       "      <td>VIII</td>\n",
       "      <td>Spectrier</td>\n",
       "      <td>Rayspos</td>\n",
       "      <td>ghost</td>\n",
       "      <td>NaN</td>\n",
       "      <td>Swift Horse Pokémon</td>\n",
       "      <td>NaN</td>\n",
       "      <td>NaN</td>\n",
       "      <td>2.0</td>\n",
       "      <td>...</td>\n",
       "      <td>NaN</td>\n",
       "      <td>NaN</td>\n",
       "      <td>NaN</td>\n",
       "      <td>NaN</td>\n",
       "      <td>NaN</td>\n",
       "      <td>NaN</td>\n",
       "      <td>NaN</td>\n",
       "      <td>NaN</td>\n",
       "      <td>NaN</td>\n",
       "      <td>It probes its surroundings with all its senses...</td>\n",
       "    </tr>\n",
       "    <tr>\n",
       "      <th>897</th>\n",
       "      <td>898</td>\n",
       "      <td>VIII</td>\n",
       "      <td>Calyrex</td>\n",
       "      <td>Badrex</td>\n",
       "      <td>psychic</td>\n",
       "      <td>grass</td>\n",
       "      <td>King Pokémon</td>\n",
       "      <td>NaN</td>\n",
       "      <td>NaN</td>\n",
       "      <td>1.1</td>\n",
       "      <td>...</td>\n",
       "      <td>NaN</td>\n",
       "      <td>NaN</td>\n",
       "      <td>NaN</td>\n",
       "      <td>NaN</td>\n",
       "      <td>NaN</td>\n",
       "      <td>NaN</td>\n",
       "      <td>NaN</td>\n",
       "      <td>NaN</td>\n",
       "      <td>NaN</td>\n",
       "      <td>Calyrex is a merciful Pokémon, capable of prov...</td>\n",
       "    </tr>\n",
       "  </tbody>\n",
       "</table>\n",
       "<p>898 rows × 55 columns</p>\n",
       "</div>"
      ],
      "text/plain": [
       "     national_number generation english_name japanese_name primary_type  \\\n",
       "0                  1          I    Bulbasaur   Fushigidane        grass   \n",
       "1                  2          I      Ivysaur    Fushigisou        grass   \n",
       "2                  3          I     Venusaur   Fushigibana        grass   \n",
       "3                  4          I   Charmander      Hitokage         fire   \n",
       "4                  5          I   Charmeleon       Lizardo         fire   \n",
       "..               ...        ...          ...           ...          ...   \n",
       "893              894       VIII    Regieleki     Regieleki     electric   \n",
       "894              895       VIII    Regidrago     Regidrago       dragon   \n",
       "895              896       VIII    Glastrier      Blizapos          ice   \n",
       "896              897       VIII    Spectrier       Rayspos        ghost   \n",
       "897              898       VIII      Calyrex        Badrex      psychic   \n",
       "\n",
       "    secondary_type       classification percent_male percent_female  height_m  \\\n",
       "0           poison         Seed Pokémon        88.14          11.86       0.7   \n",
       "1           poison         Seed Pokémon        88.14          11.86       1.0   \n",
       "2           poison         Seed Pokémon        88.14          11.86       2.0   \n",
       "3              NaN       Lizard Pokémon        88.14          11.86       0.6   \n",
       "4              NaN        Flame Pokémon        88.14          11.86       1.1   \n",
       "..             ...                  ...          ...            ...       ...   \n",
       "893            NaN     Electron Pokémon          NaN            NaN       1.2   \n",
       "894            NaN   Dragon Orb Pokémon          NaN            NaN       2.1   \n",
       "895            NaN   Wild Horse Pokémon          NaN            NaN       2.2   \n",
       "896            NaN  Swift Horse Pokémon          NaN            NaN       2.0   \n",
       "897          grass         King Pokémon          NaN            NaN       1.1   \n",
       "\n",
       "     ...  evochain_1  evochain_2  evochain_3  evochain_4  evochain_5  \\\n",
       "0    ...      Level      Ivysaur      Level     Venusaur         NaN   \n",
       "1    ...      Level      Ivysaur      Level     Venusaur         NaN   \n",
       "2    ...      Level      Ivysaur      Level     Venusaur         NaN   \n",
       "3    ...      Level   Charmeleon      Level    Charizard         NaN   \n",
       "4    ...      Level   Charmeleon      Level    Charizard         NaN   \n",
       "..   ...         ...         ...         ...         ...         ...   \n",
       "893  ...         NaN         NaN         NaN         NaN         NaN   \n",
       "894  ...         NaN         NaN         NaN         NaN         NaN   \n",
       "895  ...         NaN         NaN         NaN         NaN         NaN   \n",
       "896  ...         NaN         NaN         NaN         NaN         NaN   \n",
       "897  ...         NaN         NaN         NaN         NaN         NaN   \n",
       "\n",
       "     evochain_6           gigantamax  mega_evolution  mega_evolution_alt  \\\n",
       "0           NaN                  NaN             NaN                 NaN   \n",
       "1           NaN                  NaN             NaN                 NaN   \n",
       "2           NaN  Gigantamax Venusaur   Mega Venusaur                 NaN   \n",
       "3           NaN                  NaN             NaN                 NaN   \n",
       "4           NaN                  NaN             NaN                 NaN   \n",
       "..          ...                  ...             ...                 ...   \n",
       "893         NaN                  NaN             NaN                 NaN   \n",
       "894         NaN                  NaN             NaN                 NaN   \n",
       "895         NaN                  NaN             NaN                 NaN   \n",
       "896         NaN                  NaN             NaN                 NaN   \n",
       "897         NaN                  NaN             NaN                 NaN   \n",
       "\n",
       "                                           description  \n",
       "0    There is a plant seed on its back right from t...  \n",
       "1    When the bulb on its back grows large, it appe...  \n",
       "2    Its plant blooms when it is absorbing solar en...  \n",
       "3    It has a preference for hot things. When it ra...  \n",
       "4    It has a barbaric nature. In battle, it whips ...  \n",
       "..                                                 ...  \n",
       "893  This Pokémon is a cluster of electrical energy...  \n",
       "894  An academic theory proposes that Regidrago’s a...  \n",
       "895  Glastrier emits intense cold from its hooves. ...  \n",
       "896  It probes its surroundings with all its senses...  \n",
       "897  Calyrex is a merciful Pokémon, capable of prov...  \n",
       "\n",
       "[898 rows x 55 columns]"
      ]
     },
     "execution_count": 2,
     "metadata": {},
     "output_type": "execute_result"
    }
   ],
   "source": [
    "\n",
    "# Set display options to allow scrolling\n",
    "# pd.set_option('display.max_rows', None)\n",
    "# pd.set_option('display.max_columns', None)\n",
    "# pd.set_option('display.width', 1000)\n",
    "# pd.set_option('display.max_colwidth', None)\n",
    "\n",
    "pokemon_df = pd.read_csv('Pokemon.csv')\n",
    "pokemon_df\n",
    "\n",
    "\n",
    "\n",
    "\n"
   ]
  },
  {
   "cell_type": "code",
   "execution_count": 3,
   "id": "7f1e059c-0359-404e-914a-f03b31f82c7f",
   "metadata": {},
   "outputs": [
    {
     "data": {
      "text/html": [
       "<div>\n",
       "<style scoped>\n",
       "    .dataframe tbody tr th:only-of-type {\n",
       "        vertical-align: middle;\n",
       "    }\n",
       "\n",
       "    .dataframe tbody tr th {\n",
       "        vertical-align: top;\n",
       "    }\n",
       "\n",
       "    .dataframe thead th {\n",
       "        text-align: right;\n",
       "    }\n",
       "</style>\n",
       "<table border=\"1\" class=\"dataframe\">\n",
       "  <thead>\n",
       "    <tr style=\"text-align: right;\">\n",
       "      <th></th>\n",
       "      <th>national_number</th>\n",
       "      <th>generation</th>\n",
       "      <th>english_name</th>\n",
       "      <th>japanese_name</th>\n",
       "      <th>primary_type</th>\n",
       "      <th>secondary_type</th>\n",
       "      <th>classification</th>\n",
       "      <th>percent_male</th>\n",
       "      <th>percent_female</th>\n",
       "      <th>height_m</th>\n",
       "      <th>...</th>\n",
       "      <th>evochain_1</th>\n",
       "      <th>evochain_2</th>\n",
       "      <th>evochain_3</th>\n",
       "      <th>evochain_4</th>\n",
       "      <th>evochain_5</th>\n",
       "      <th>evochain_6</th>\n",
       "      <th>gigantamax</th>\n",
       "      <th>mega_evolution</th>\n",
       "      <th>mega_evolution_alt</th>\n",
       "      <th>description</th>\n",
       "    </tr>\n",
       "  </thead>\n",
       "  <tbody>\n",
       "    <tr>\n",
       "      <th>0</th>\n",
       "      <td>1</td>\n",
       "      <td>I</td>\n",
       "      <td>Bulbasaur</td>\n",
       "      <td>Fushigidane</td>\n",
       "      <td>grass</td>\n",
       "      <td>poison</td>\n",
       "      <td>Seed Pokémon</td>\n",
       "      <td>88.14</td>\n",
       "      <td>11.86</td>\n",
       "      <td>0.7</td>\n",
       "      <td>...</td>\n",
       "      <td>Level</td>\n",
       "      <td>Ivysaur</td>\n",
       "      <td>Level</td>\n",
       "      <td>Venusaur</td>\n",
       "      <td>NaN</td>\n",
       "      <td>NaN</td>\n",
       "      <td>NaN</td>\n",
       "      <td>NaN</td>\n",
       "      <td>NaN</td>\n",
       "      <td>There is a plant seed on its back right from t...</td>\n",
       "    </tr>\n",
       "  </tbody>\n",
       "</table>\n",
       "<p>1 rows × 55 columns</p>\n",
       "</div>"
      ],
      "text/plain": [
       "   national_number generation english_name japanese_name primary_type  \\\n",
       "0                1          I    Bulbasaur   Fushigidane        grass   \n",
       "\n",
       "  secondary_type classification percent_male percent_female  height_m  ...  \\\n",
       "0         poison   Seed Pokémon        88.14          11.86       0.7  ...   \n",
       "\n",
       "   evochain_1 evochain_2  evochain_3  evochain_4  evochain_5  evochain_6  \\\n",
       "0      Level     Ivysaur      Level     Venusaur         NaN         NaN   \n",
       "\n",
       "   gigantamax  mega_evolution  mega_evolution_alt  \\\n",
       "0         NaN             NaN                 NaN   \n",
       "\n",
       "                                         description  \n",
       "0  There is a plant seed on its back right from t...  \n",
       "\n",
       "[1 rows x 55 columns]"
      ]
     },
     "execution_count": 3,
     "metadata": {},
     "output_type": "execute_result"
    }
   ],
   "source": [
    "pokemon_df[pokemon_df['english_name'] == 'Bulbasaur']"
   ]
  },
  {
   "cell_type": "code",
   "execution_count": 4,
   "id": "f44ec911-4002-476e-9286-5f7dd1686b08",
   "metadata": {},
   "outputs": [
    {
     "data": {
      "text/html": [
       "<div>\n",
       "<style scoped>\n",
       "    .dataframe tbody tr th:only-of-type {\n",
       "        vertical-align: middle;\n",
       "    }\n",
       "\n",
       "    .dataframe tbody tr th {\n",
       "        vertical-align: top;\n",
       "    }\n",
       "\n",
       "    .dataframe thead th {\n",
       "        text-align: right;\n",
       "    }\n",
       "</style>\n",
       "<table border=\"1\" class=\"dataframe\">\n",
       "  <thead>\n",
       "    <tr style=\"text-align: right;\">\n",
       "      <th></th>\n",
       "      <th>national_number</th>\n",
       "      <th>generation</th>\n",
       "      <th>english_name</th>\n",
       "      <th>japanese_name</th>\n",
       "      <th>primary_type</th>\n",
       "      <th>secondary_type</th>\n",
       "      <th>classification</th>\n",
       "      <th>percent_male</th>\n",
       "      <th>percent_female</th>\n",
       "      <th>height_m</th>\n",
       "      <th>...</th>\n",
       "      <th>evochain_1</th>\n",
       "      <th>evochain_2</th>\n",
       "      <th>evochain_3</th>\n",
       "      <th>evochain_4</th>\n",
       "      <th>evochain_5</th>\n",
       "      <th>evochain_6</th>\n",
       "      <th>gigantamax</th>\n",
       "      <th>mega_evolution</th>\n",
       "      <th>mega_evolution_alt</th>\n",
       "      <th>description</th>\n",
       "    </tr>\n",
       "  </thead>\n",
       "  <tbody>\n",
       "    <tr>\n",
       "      <th>149</th>\n",
       "      <td>150</td>\n",
       "      <td>I</td>\n",
       "      <td>Mewtwo</td>\n",
       "      <td>Mewtwo</td>\n",
       "      <td>psychic</td>\n",
       "      <td>NaN</td>\n",
       "      <td>Genetic Pokémon</td>\n",
       "      <td>NaN</td>\n",
       "      <td>NaN</td>\n",
       "      <td>2.0</td>\n",
       "      <td>...</td>\n",
       "      <td>NaN</td>\n",
       "      <td>NaN</td>\n",
       "      <td>NaN</td>\n",
       "      <td>NaN</td>\n",
       "      <td>NaN</td>\n",
       "      <td>NaN</td>\n",
       "      <td>NaN</td>\n",
       "      <td>Mega Mewtwo X</td>\n",
       "      <td>Mega Mewtwo Y</td>\n",
       "      <td>Its DNA is almost the same as Mew’s. However, ...</td>\n",
       "    </tr>\n",
       "    <tr>\n",
       "      <th>248</th>\n",
       "      <td>249</td>\n",
       "      <td>II</td>\n",
       "      <td>Lugia</td>\n",
       "      <td>Lugia</td>\n",
       "      <td>psychic</td>\n",
       "      <td>flying</td>\n",
       "      <td>Diving Pokémon</td>\n",
       "      <td>NaN</td>\n",
       "      <td>NaN</td>\n",
       "      <td>5.2</td>\n",
       "      <td>...</td>\n",
       "      <td>NaN</td>\n",
       "      <td>NaN</td>\n",
       "      <td>NaN</td>\n",
       "      <td>NaN</td>\n",
       "      <td>NaN</td>\n",
       "      <td>NaN</td>\n",
       "      <td>NaN</td>\n",
       "      <td>NaN</td>\n",
       "      <td>NaN</td>\n",
       "      <td>Lugia’s wings pack devastating power—a light f...</td>\n",
       "    </tr>\n",
       "    <tr>\n",
       "      <th>249</th>\n",
       "      <td>250</td>\n",
       "      <td>II</td>\n",
       "      <td>Ho-Oh</td>\n",
       "      <td>Houou</td>\n",
       "      <td>fire</td>\n",
       "      <td>flying</td>\n",
       "      <td>Rainbow Pokémon</td>\n",
       "      <td>NaN</td>\n",
       "      <td>NaN</td>\n",
       "      <td>3.8</td>\n",
       "      <td>...</td>\n",
       "      <td>NaN</td>\n",
       "      <td>NaN</td>\n",
       "      <td>NaN</td>\n",
       "      <td>NaN</td>\n",
       "      <td>NaN</td>\n",
       "      <td>NaN</td>\n",
       "      <td>NaN</td>\n",
       "      <td>NaN</td>\n",
       "      <td>NaN</td>\n",
       "      <td>Ho-Oh’s feathers glow in seven colors dependin...</td>\n",
       "    </tr>\n",
       "    <tr>\n",
       "      <th>381</th>\n",
       "      <td>382</td>\n",
       "      <td>III</td>\n",
       "      <td>Kyogre</td>\n",
       "      <td>Kyogre</td>\n",
       "      <td>water</td>\n",
       "      <td>NaN</td>\n",
       "      <td>Sea Basin Pokémon</td>\n",
       "      <td>NaN</td>\n",
       "      <td>NaN</td>\n",
       "      <td>4.5</td>\n",
       "      <td>...</td>\n",
       "      <td>NaN</td>\n",
       "      <td>NaN</td>\n",
       "      <td>NaN</td>\n",
       "      <td>NaN</td>\n",
       "      <td>NaN</td>\n",
       "      <td>NaN</td>\n",
       "      <td>NaN</td>\n",
       "      <td>NaN</td>\n",
       "      <td>NaN</td>\n",
       "      <td>Through Primal Reversion and with nature’s ful...</td>\n",
       "    </tr>\n",
       "    <tr>\n",
       "      <th>382</th>\n",
       "      <td>383</td>\n",
       "      <td>III</td>\n",
       "      <td>Groudon</td>\n",
       "      <td>Groudon</td>\n",
       "      <td>ground</td>\n",
       "      <td>NaN</td>\n",
       "      <td>Continent Pokémon</td>\n",
       "      <td>NaN</td>\n",
       "      <td>NaN</td>\n",
       "      <td>3.5</td>\n",
       "      <td>...</td>\n",
       "      <td>NaN</td>\n",
       "      <td>NaN</td>\n",
       "      <td>NaN</td>\n",
       "      <td>NaN</td>\n",
       "      <td>NaN</td>\n",
       "      <td>NaN</td>\n",
       "      <td>NaN</td>\n",
       "      <td>NaN</td>\n",
       "      <td>NaN</td>\n",
       "      <td>Groudon is said to be the personification of t...</td>\n",
       "    </tr>\n",
       "    <tr>\n",
       "      <th>383</th>\n",
       "      <td>384</td>\n",
       "      <td>III</td>\n",
       "      <td>Rayquaza</td>\n",
       "      <td>Rayquaza</td>\n",
       "      <td>dragon</td>\n",
       "      <td>flying</td>\n",
       "      <td>Sky High Pokémon</td>\n",
       "      <td>NaN</td>\n",
       "      <td>NaN</td>\n",
       "      <td>7.0</td>\n",
       "      <td>...</td>\n",
       "      <td>NaN</td>\n",
       "      <td>NaN</td>\n",
       "      <td>NaN</td>\n",
       "      <td>NaN</td>\n",
       "      <td>NaN</td>\n",
       "      <td>NaN</td>\n",
       "      <td>NaN</td>\n",
       "      <td>Mega Rayquaza</td>\n",
       "      <td>NaN</td>\n",
       "      <td>Rayquaza is said to have lived for hundreds of...</td>\n",
       "    </tr>\n",
       "    <tr>\n",
       "      <th>482</th>\n",
       "      <td>483</td>\n",
       "      <td>IV</td>\n",
       "      <td>Dialga</td>\n",
       "      <td>Dialga</td>\n",
       "      <td>steel</td>\n",
       "      <td>dragon</td>\n",
       "      <td>Temporal Pokémon</td>\n",
       "      <td>NaN</td>\n",
       "      <td>NaN</td>\n",
       "      <td>5.4</td>\n",
       "      <td>...</td>\n",
       "      <td>NaN</td>\n",
       "      <td>NaN</td>\n",
       "      <td>NaN</td>\n",
       "      <td>NaN</td>\n",
       "      <td>NaN</td>\n",
       "      <td>NaN</td>\n",
       "      <td>NaN</td>\n",
       "      <td>NaN</td>\n",
       "      <td>NaN</td>\n",
       "      <td>A Pokémon spoken of in legend. It is said that...</td>\n",
       "    </tr>\n",
       "    <tr>\n",
       "      <th>483</th>\n",
       "      <td>484</td>\n",
       "      <td>IV</td>\n",
       "      <td>Palkia</td>\n",
       "      <td>Palkia</td>\n",
       "      <td>water</td>\n",
       "      <td>dragon</td>\n",
       "      <td>Spatial Pokémon</td>\n",
       "      <td>NaN</td>\n",
       "      <td>NaN</td>\n",
       "      <td>4.2</td>\n",
       "      <td>...</td>\n",
       "      <td>NaN</td>\n",
       "      <td>NaN</td>\n",
       "      <td>NaN</td>\n",
       "      <td>NaN</td>\n",
       "      <td>NaN</td>\n",
       "      <td>NaN</td>\n",
       "      <td>NaN</td>\n",
       "      <td>NaN</td>\n",
       "      <td>NaN</td>\n",
       "      <td>It is said to live in a gap in the spatial dim...</td>\n",
       "    </tr>\n",
       "    <tr>\n",
       "      <th>486</th>\n",
       "      <td>487</td>\n",
       "      <td>IV</td>\n",
       "      <td>Giratina</td>\n",
       "      <td>Giratina</td>\n",
       "      <td>ghost</td>\n",
       "      <td>dragon</td>\n",
       "      <td>Renegade Pokémon</td>\n",
       "      <td>NaN</td>\n",
       "      <td>NaN</td>\n",
       "      <td>4.5</td>\n",
       "      <td>...</td>\n",
       "      <td>NaN</td>\n",
       "      <td>NaN</td>\n",
       "      <td>NaN</td>\n",
       "      <td>NaN</td>\n",
       "      <td>NaN</td>\n",
       "      <td>NaN</td>\n",
       "      <td>NaN</td>\n",
       "      <td>NaN</td>\n",
       "      <td>NaN</td>\n",
       "      <td>This Pokémon is said to live in a world on the...</td>\n",
       "    </tr>\n",
       "    <tr>\n",
       "      <th>642</th>\n",
       "      <td>643</td>\n",
       "      <td>V</td>\n",
       "      <td>Reshiram</td>\n",
       "      <td>Reshiram</td>\n",
       "      <td>dragon</td>\n",
       "      <td>fire</td>\n",
       "      <td>Vast White Pokémon</td>\n",
       "      <td>NaN</td>\n",
       "      <td>NaN</td>\n",
       "      <td>3.2</td>\n",
       "      <td>...</td>\n",
       "      <td>NaN</td>\n",
       "      <td>NaN</td>\n",
       "      <td>NaN</td>\n",
       "      <td>NaN</td>\n",
       "      <td>NaN</td>\n",
       "      <td>NaN</td>\n",
       "      <td>NaN</td>\n",
       "      <td>NaN</td>\n",
       "      <td>NaN</td>\n",
       "      <td>This legendary Pokémon can scorch the world wi...</td>\n",
       "    </tr>\n",
       "    <tr>\n",
       "      <th>643</th>\n",
       "      <td>644</td>\n",
       "      <td>V</td>\n",
       "      <td>Zekrom</td>\n",
       "      <td>Zekrom</td>\n",
       "      <td>dragon</td>\n",
       "      <td>electric</td>\n",
       "      <td>Deep Black Pokémon</td>\n",
       "      <td>NaN</td>\n",
       "      <td>NaN</td>\n",
       "      <td>2.9</td>\n",
       "      <td>...</td>\n",
       "      <td>NaN</td>\n",
       "      <td>NaN</td>\n",
       "      <td>NaN</td>\n",
       "      <td>NaN</td>\n",
       "      <td>NaN</td>\n",
       "      <td>NaN</td>\n",
       "      <td>NaN</td>\n",
       "      <td>NaN</td>\n",
       "      <td>NaN</td>\n",
       "      <td>This legendary Pokémon can scorch the world wi...</td>\n",
       "    </tr>\n",
       "    <tr>\n",
       "      <th>645</th>\n",
       "      <td>646</td>\n",
       "      <td>V</td>\n",
       "      <td>Kyurem</td>\n",
       "      <td>Kyurem</td>\n",
       "      <td>dragon</td>\n",
       "      <td>ice</td>\n",
       "      <td>Boundary Pokémon</td>\n",
       "      <td>NaN</td>\n",
       "      <td>NaN</td>\n",
       "      <td>3.0</td>\n",
       "      <td>...</td>\n",
       "      <td>NaN</td>\n",
       "      <td>NaN</td>\n",
       "      <td>NaN</td>\n",
       "      <td>NaN</td>\n",
       "      <td>NaN</td>\n",
       "      <td>NaN</td>\n",
       "      <td>NaN</td>\n",
       "      <td>NaN</td>\n",
       "      <td>NaN</td>\n",
       "      <td>This legendary ice Pokémon waits for a hero to...</td>\n",
       "    </tr>\n",
       "    <tr>\n",
       "      <th>715</th>\n",
       "      <td>716</td>\n",
       "      <td>VI</td>\n",
       "      <td>Xerneas</td>\n",
       "      <td>Xerneas</td>\n",
       "      <td>fairy</td>\n",
       "      <td>NaN</td>\n",
       "      <td>Life Pokémon</td>\n",
       "      <td>NaN</td>\n",
       "      <td>NaN</td>\n",
       "      <td>3.0</td>\n",
       "      <td>...</td>\n",
       "      <td>NaN</td>\n",
       "      <td>NaN</td>\n",
       "      <td>NaN</td>\n",
       "      <td>NaN</td>\n",
       "      <td>NaN</td>\n",
       "      <td>NaN</td>\n",
       "      <td>NaN</td>\n",
       "      <td>NaN</td>\n",
       "      <td>NaN</td>\n",
       "      <td>Legends say it can share eternal life. It slep...</td>\n",
       "    </tr>\n",
       "    <tr>\n",
       "      <th>716</th>\n",
       "      <td>717</td>\n",
       "      <td>VI</td>\n",
       "      <td>Yveltal</td>\n",
       "      <td>Yveltal</td>\n",
       "      <td>dark</td>\n",
       "      <td>flying</td>\n",
       "      <td>Destruction Pokémon</td>\n",
       "      <td>NaN</td>\n",
       "      <td>NaN</td>\n",
       "      <td>5.8</td>\n",
       "      <td>...</td>\n",
       "      <td>NaN</td>\n",
       "      <td>NaN</td>\n",
       "      <td>NaN</td>\n",
       "      <td>NaN</td>\n",
       "      <td>NaN</td>\n",
       "      <td>NaN</td>\n",
       "      <td>NaN</td>\n",
       "      <td>NaN</td>\n",
       "      <td>NaN</td>\n",
       "      <td>When this legendary Pokémon’s wings and tail f...</td>\n",
       "    </tr>\n",
       "    <tr>\n",
       "      <th>717</th>\n",
       "      <td>718</td>\n",
       "      <td>VI</td>\n",
       "      <td>Zygarde</td>\n",
       "      <td>Zygarde</td>\n",
       "      <td>dragon</td>\n",
       "      <td>ground</td>\n",
       "      <td>Order Pokémon</td>\n",
       "      <td>NaN</td>\n",
       "      <td>NaN</td>\n",
       "      <td>5.0</td>\n",
       "      <td>...</td>\n",
       "      <td>NaN</td>\n",
       "      <td>NaN</td>\n",
       "      <td>NaN</td>\n",
       "      <td>NaN</td>\n",
       "      <td>NaN</td>\n",
       "      <td>NaN</td>\n",
       "      <td>NaN</td>\n",
       "      <td>NaN</td>\n",
       "      <td>NaN</td>\n",
       "      <td>This is Zygarde’s form when about half of its ...</td>\n",
       "    </tr>\n",
       "    <tr>\n",
       "      <th>788</th>\n",
       "      <td>789</td>\n",
       "      <td>VII</td>\n",
       "      <td>Cosmog</td>\n",
       "      <td>Cosmog</td>\n",
       "      <td>psychic</td>\n",
       "      <td>NaN</td>\n",
       "      <td>Nebula Pokémon</td>\n",
       "      <td>NaN</td>\n",
       "      <td>NaN</td>\n",
       "      <td>0.2</td>\n",
       "      <td>...</td>\n",
       "      <td>Level</td>\n",
       "      <td>Cosmoem</td>\n",
       "      <td>Level 53 in Specific Game</td>\n",
       "      <td>Solgaleo</td>\n",
       "      <td>Level 53 in Specific Game</td>\n",
       "      <td>Lunala</td>\n",
       "      <td>NaN</td>\n",
       "      <td>NaN</td>\n",
       "      <td>NaN</td>\n",
       "      <td>Even though its helpless, gaseous body can be ...</td>\n",
       "    </tr>\n",
       "    <tr>\n",
       "      <th>789</th>\n",
       "      <td>790</td>\n",
       "      <td>VII</td>\n",
       "      <td>Cosmoem</td>\n",
       "      <td>Cosmovum</td>\n",
       "      <td>psychic</td>\n",
       "      <td>NaN</td>\n",
       "      <td>Protostar Pokémon</td>\n",
       "      <td>NaN</td>\n",
       "      <td>NaN</td>\n",
       "      <td>0.1</td>\n",
       "      <td>...</td>\n",
       "      <td>Level</td>\n",
       "      <td>Cosmoem</td>\n",
       "      <td>Level 53 in Specific Game</td>\n",
       "      <td>Solgaleo</td>\n",
       "      <td>Level 53 in Specific Game</td>\n",
       "      <td>Lunala</td>\n",
       "      <td>NaN</td>\n",
       "      <td>NaN</td>\n",
       "      <td>NaN</td>\n",
       "      <td>The king who ruled Alola in times of antiquity...</td>\n",
       "    </tr>\n",
       "    <tr>\n",
       "      <th>790</th>\n",
       "      <td>791</td>\n",
       "      <td>VII</td>\n",
       "      <td>Solgaleo</td>\n",
       "      <td>Solgaleo</td>\n",
       "      <td>psychic</td>\n",
       "      <td>steel</td>\n",
       "      <td>Sunne Pokémon</td>\n",
       "      <td>NaN</td>\n",
       "      <td>NaN</td>\n",
       "      <td>3.4</td>\n",
       "      <td>...</td>\n",
       "      <td>Level</td>\n",
       "      <td>Cosmoem</td>\n",
       "      <td>Level 53 in Specific Game</td>\n",
       "      <td>Solgaleo</td>\n",
       "      <td>Level 53 in Specific Game</td>\n",
       "      <td>Lunala</td>\n",
       "      <td>NaN</td>\n",
       "      <td>NaN</td>\n",
       "      <td>NaN</td>\n",
       "      <td>Sometimes the result of its opening an Ultra W...</td>\n",
       "    </tr>\n",
       "    <tr>\n",
       "      <th>791</th>\n",
       "      <td>792</td>\n",
       "      <td>VII</td>\n",
       "      <td>Lunala</td>\n",
       "      <td>Lunala</td>\n",
       "      <td>psychic</td>\n",
       "      <td>ghost</td>\n",
       "      <td>Moone Pokémon</td>\n",
       "      <td>NaN</td>\n",
       "      <td>NaN</td>\n",
       "      <td>4.0</td>\n",
       "      <td>...</td>\n",
       "      <td>Level</td>\n",
       "      <td>Cosmoem</td>\n",
       "      <td>Level 53 in Specific Game</td>\n",
       "      <td>Solgaleo</td>\n",
       "      <td>Level 53 in Specific Game</td>\n",
       "      <td>Lunala</td>\n",
       "      <td>NaN</td>\n",
       "      <td>NaN</td>\n",
       "      <td>NaN</td>\n",
       "      <td>Records of it exist in writings from long, lon...</td>\n",
       "    </tr>\n",
       "    <tr>\n",
       "      <th>799</th>\n",
       "      <td>800</td>\n",
       "      <td>VII</td>\n",
       "      <td>Necrozma</td>\n",
       "      <td>Necrozma</td>\n",
       "      <td>psychic</td>\n",
       "      <td>psychic</td>\n",
       "      <td>Prism Pokémon</td>\n",
       "      <td>NaN</td>\n",
       "      <td>NaN</td>\n",
       "      <td>2.4</td>\n",
       "      <td>...</td>\n",
       "      <td>NaN</td>\n",
       "      <td>NaN</td>\n",
       "      <td>NaN</td>\n",
       "      <td>NaN</td>\n",
       "      <td>NaN</td>\n",
       "      <td>NaN</td>\n",
       "      <td>NaN</td>\n",
       "      <td>NaN</td>\n",
       "      <td>NaN</td>\n",
       "      <td>It looks somehow pained as it rages around in ...</td>\n",
       "    </tr>\n",
       "  </tbody>\n",
       "</table>\n",
       "<p>20 rows × 55 columns</p>\n",
       "</div>"
      ],
      "text/plain": [
       "     national_number generation english_name japanese_name primary_type  \\\n",
       "149              150          I       Mewtwo        Mewtwo      psychic   \n",
       "248              249         II        Lugia         Lugia      psychic   \n",
       "249              250         II        Ho-Oh         Houou         fire   \n",
       "381              382        III       Kyogre        Kyogre        water   \n",
       "382              383        III      Groudon       Groudon       ground   \n",
       "383              384        III     Rayquaza      Rayquaza       dragon   \n",
       "482              483         IV       Dialga        Dialga        steel   \n",
       "483              484         IV       Palkia        Palkia        water   \n",
       "486              487         IV     Giratina      Giratina        ghost   \n",
       "642              643          V     Reshiram      Reshiram       dragon   \n",
       "643              644          V       Zekrom        Zekrom       dragon   \n",
       "645              646          V       Kyurem        Kyurem       dragon   \n",
       "715              716         VI      Xerneas       Xerneas        fairy   \n",
       "716              717         VI      Yveltal       Yveltal         dark   \n",
       "717              718         VI      Zygarde       Zygarde       dragon   \n",
       "788              789        VII       Cosmog        Cosmog      psychic   \n",
       "789              790        VII      Cosmoem      Cosmovum      psychic   \n",
       "790              791        VII     Solgaleo      Solgaleo      psychic   \n",
       "791              792        VII       Lunala        Lunala      psychic   \n",
       "799              800        VII     Necrozma      Necrozma      psychic   \n",
       "\n",
       "    secondary_type       classification percent_male percent_female  height_m  \\\n",
       "149            NaN      Genetic Pokémon          NaN            NaN       2.0   \n",
       "248         flying       Diving Pokémon          NaN            NaN       5.2   \n",
       "249         flying      Rainbow Pokémon          NaN            NaN       3.8   \n",
       "381            NaN    Sea Basin Pokémon          NaN            NaN       4.5   \n",
       "382            NaN    Continent Pokémon          NaN            NaN       3.5   \n",
       "383         flying     Sky High Pokémon          NaN            NaN       7.0   \n",
       "482         dragon     Temporal Pokémon          NaN            NaN       5.4   \n",
       "483         dragon      Spatial Pokémon          NaN            NaN       4.2   \n",
       "486         dragon     Renegade Pokémon          NaN            NaN       4.5   \n",
       "642           fire   Vast White Pokémon          NaN            NaN       3.2   \n",
       "643       electric   Deep Black Pokémon          NaN            NaN       2.9   \n",
       "645            ice     Boundary Pokémon          NaN            NaN       3.0   \n",
       "715            NaN         Life Pokémon          NaN            NaN       3.0   \n",
       "716         flying  Destruction Pokémon          NaN            NaN       5.8   \n",
       "717         ground        Order Pokémon          NaN            NaN       5.0   \n",
       "788            NaN       Nebula Pokémon          NaN            NaN       0.2   \n",
       "789            NaN    Protostar Pokémon          NaN            NaN       0.1   \n",
       "790          steel        Sunne Pokémon          NaN            NaN       3.4   \n",
       "791          ghost        Moone Pokémon          NaN            NaN       4.0   \n",
       "799        psychic        Prism Pokémon          NaN            NaN       2.4   \n",
       "\n",
       "     ...  evochain_1 evochain_2                 evochain_3  evochain_4  \\\n",
       "149  ...         NaN        NaN                        NaN         NaN   \n",
       "248  ...         NaN        NaN                        NaN         NaN   \n",
       "249  ...         NaN        NaN                        NaN         NaN   \n",
       "381  ...         NaN        NaN                        NaN         NaN   \n",
       "382  ...         NaN        NaN                        NaN         NaN   \n",
       "383  ...         NaN        NaN                        NaN         NaN   \n",
       "482  ...         NaN        NaN                        NaN         NaN   \n",
       "483  ...         NaN        NaN                        NaN         NaN   \n",
       "486  ...         NaN        NaN                        NaN         NaN   \n",
       "642  ...         NaN        NaN                        NaN         NaN   \n",
       "643  ...         NaN        NaN                        NaN         NaN   \n",
       "645  ...         NaN        NaN                        NaN         NaN   \n",
       "715  ...         NaN        NaN                        NaN         NaN   \n",
       "716  ...         NaN        NaN                        NaN         NaN   \n",
       "717  ...         NaN        NaN                        NaN         NaN   \n",
       "788  ...       Level    Cosmoem  Level 53 in Specific Game    Solgaleo   \n",
       "789  ...       Level    Cosmoem  Level 53 in Specific Game    Solgaleo   \n",
       "790  ...       Level    Cosmoem  Level 53 in Specific Game    Solgaleo   \n",
       "791  ...       Level    Cosmoem  Level 53 in Specific Game    Solgaleo   \n",
       "799  ...         NaN        NaN                        NaN         NaN   \n",
       "\n",
       "                    evochain_5  evochain_6  gigantamax  mega_evolution  \\\n",
       "149                        NaN         NaN         NaN   Mega Mewtwo X   \n",
       "248                        NaN         NaN         NaN             NaN   \n",
       "249                        NaN         NaN         NaN             NaN   \n",
       "381                        NaN         NaN         NaN             NaN   \n",
       "382                        NaN         NaN         NaN             NaN   \n",
       "383                        NaN         NaN         NaN   Mega Rayquaza   \n",
       "482                        NaN         NaN         NaN             NaN   \n",
       "483                        NaN         NaN         NaN             NaN   \n",
       "486                        NaN         NaN         NaN             NaN   \n",
       "642                        NaN         NaN         NaN             NaN   \n",
       "643                        NaN         NaN         NaN             NaN   \n",
       "645                        NaN         NaN         NaN             NaN   \n",
       "715                        NaN         NaN         NaN             NaN   \n",
       "716                        NaN         NaN         NaN             NaN   \n",
       "717                        NaN         NaN         NaN             NaN   \n",
       "788  Level 53 in Specific Game      Lunala         NaN             NaN   \n",
       "789  Level 53 in Specific Game      Lunala         NaN             NaN   \n",
       "790  Level 53 in Specific Game      Lunala         NaN             NaN   \n",
       "791  Level 53 in Specific Game      Lunala         NaN             NaN   \n",
       "799                        NaN         NaN         NaN             NaN   \n",
       "\n",
       "     mega_evolution_alt                                        description  \n",
       "149       Mega Mewtwo Y  Its DNA is almost the same as Mew’s. However, ...  \n",
       "248                 NaN  Lugia’s wings pack devastating power—a light f...  \n",
       "249                 NaN  Ho-Oh’s feathers glow in seven colors dependin...  \n",
       "381                 NaN  Through Primal Reversion and with nature’s ful...  \n",
       "382                 NaN  Groudon is said to be the personification of t...  \n",
       "383                 NaN  Rayquaza is said to have lived for hundreds of...  \n",
       "482                 NaN  A Pokémon spoken of in legend. It is said that...  \n",
       "483                 NaN  It is said to live in a gap in the spatial dim...  \n",
       "486                 NaN  This Pokémon is said to live in a world on the...  \n",
       "642                 NaN  This legendary Pokémon can scorch the world wi...  \n",
       "643                 NaN  This legendary Pokémon can scorch the world wi...  \n",
       "645                 NaN  This legendary ice Pokémon waits for a hero to...  \n",
       "715                 NaN  Legends say it can share eternal life. It slep...  \n",
       "716                 NaN  When this legendary Pokémon’s wings and tail f...  \n",
       "717                 NaN  This is Zygarde’s form when about half of its ...  \n",
       "788                 NaN  Even though its helpless, gaseous body can be ...  \n",
       "789                 NaN  The king who ruled Alola in times of antiquity...  \n",
       "790                 NaN  Sometimes the result of its opening an Ultra W...  \n",
       "791                 NaN  Records of it exist in writings from long, lon...  \n",
       "799                 NaN  It looks somehow pained as it rages around in ...  \n",
       "\n",
       "[20 rows x 55 columns]"
      ]
     },
     "execution_count": 4,
     "metadata": {},
     "output_type": "execute_result"
    }
   ],
   "source": [
    "pokemon_df[pokemon_df['is_legendary'] == True]"
   ]
  },
  {
   "cell_type": "code",
   "execution_count": 5,
   "id": "6cd66152-9259-4175-b84f-2e08f9ee5029",
   "metadata": {},
   "outputs": [
    {
     "data": {
      "text/html": [
       "<div>\n",
       "<style scoped>\n",
       "    .dataframe tbody tr th:only-of-type {\n",
       "        vertical-align: middle;\n",
       "    }\n",
       "\n",
       "    .dataframe tbody tr th {\n",
       "        vertical-align: top;\n",
       "    }\n",
       "\n",
       "    .dataframe thead th {\n",
       "        text-align: right;\n",
       "    }\n",
       "</style>\n",
       "<table border=\"1\" class=\"dataframe\">\n",
       "  <thead>\n",
       "    <tr style=\"text-align: right;\">\n",
       "      <th></th>\n",
       "      <th>national_number</th>\n",
       "      <th>generation</th>\n",
       "      <th>english_name</th>\n",
       "      <th>japanese_name</th>\n",
       "      <th>primary_type</th>\n",
       "      <th>secondary_type</th>\n",
       "      <th>classification</th>\n",
       "      <th>percent_male</th>\n",
       "      <th>percent_female</th>\n",
       "      <th>height_m</th>\n",
       "      <th>...</th>\n",
       "      <th>evochain_1</th>\n",
       "      <th>evochain_2</th>\n",
       "      <th>evochain_3</th>\n",
       "      <th>evochain_4</th>\n",
       "      <th>evochain_5</th>\n",
       "      <th>evochain_6</th>\n",
       "      <th>gigantamax</th>\n",
       "      <th>mega_evolution</th>\n",
       "      <th>mega_evolution_alt</th>\n",
       "      <th>description</th>\n",
       "    </tr>\n",
       "  </thead>\n",
       "  <tbody>\n",
       "  </tbody>\n",
       "</table>\n",
       "<p>0 rows × 55 columns</p>\n",
       "</div>"
      ],
      "text/plain": [
       "Empty DataFrame\n",
       "Columns: [national_number, generation, english_name, japanese_name, primary_type, secondary_type, classification, percent_male, percent_female, height_m, weight_kg, capture_rate, base_egg_steps, hp, attack, defense, sp_attack, sp_defense, speed, abilities_0, abilities_1, abilities_2, abilities_hidden, against_normal, against_fire, against_water, against_electric, against_grass, against_ice, against_fighting, against_poison, against_ground, against_flying, against_psychic, against_bug, against_rock, against_ghost, against_dragon, against_dark, against_steel, against_fairy, is_sublegendary, is_legendary, is_mythical, evochain_0, evochain_1, evochain_2, evochain_3, evochain_4, evochain_5, evochain_6, gigantamax, mega_evolution, mega_evolution_alt, description]\n",
       "Index: []\n",
       "\n",
       "[0 rows x 55 columns]"
      ]
     },
     "execution_count": 5,
     "metadata": {},
     "output_type": "execute_result"
    }
   ],
   "source": [
    "pokemon_df[pokemon_df['primary_type'] == 'Electric']"
   ]
  },
  {
   "cell_type": "code",
   "execution_count": 6,
   "id": "5c8b3dfe-50bd-4648-87aa-52853423f814",
   "metadata": {},
   "outputs": [
    {
     "data": {
      "text/html": [
       "<div>\n",
       "<style scoped>\n",
       "    .dataframe tbody tr th:only-of-type {\n",
       "        vertical-align: middle;\n",
       "    }\n",
       "\n",
       "    .dataframe tbody tr th {\n",
       "        vertical-align: top;\n",
       "    }\n",
       "\n",
       "    .dataframe thead th {\n",
       "        text-align: right;\n",
       "    }\n",
       "</style>\n",
       "<table border=\"1\" class=\"dataframe\">\n",
       "  <thead>\n",
       "    <tr style=\"text-align: right;\">\n",
       "      <th></th>\n",
       "      <th>national_number</th>\n",
       "      <th>generation</th>\n",
       "      <th>english_name</th>\n",
       "      <th>japanese_name</th>\n",
       "      <th>primary_type</th>\n",
       "      <th>secondary_type</th>\n",
       "      <th>classification</th>\n",
       "      <th>percent_male</th>\n",
       "      <th>percent_female</th>\n",
       "      <th>height_m</th>\n",
       "      <th>...</th>\n",
       "      <th>evochain_1</th>\n",
       "      <th>evochain_2</th>\n",
       "      <th>evochain_3</th>\n",
       "      <th>evochain_4</th>\n",
       "      <th>evochain_5</th>\n",
       "      <th>evochain_6</th>\n",
       "      <th>gigantamax</th>\n",
       "      <th>mega_evolution</th>\n",
       "      <th>mega_evolution_alt</th>\n",
       "      <th>description</th>\n",
       "    </tr>\n",
       "  </thead>\n",
       "  <tbody>\n",
       "    <tr>\n",
       "      <th>196</th>\n",
       "      <td>197</td>\n",
       "      <td>II</td>\n",
       "      <td>Umbreon</td>\n",
       "      <td>Blacky</td>\n",
       "      <td>dark</td>\n",
       "      <td>NaN</td>\n",
       "      <td>Moonlight Pokémon</td>\n",
       "      <td>88.14</td>\n",
       "      <td>11.86</td>\n",
       "      <td>1.0</td>\n",
       "      <td>...</td>\n",
       "      <td>NaN</td>\n",
       "      <td>NaN</td>\n",
       "      <td>NaN</td>\n",
       "      <td>NaN</td>\n",
       "      <td>NaN</td>\n",
       "      <td>NaN</td>\n",
       "      <td>NaN</td>\n",
       "      <td>NaN</td>\n",
       "      <td>NaN</td>\n",
       "      <td>When this Pokémon becomes angry, its pores sec...</td>\n",
       "    </tr>\n",
       "    <tr>\n",
       "      <th>212</th>\n",
       "      <td>213</td>\n",
       "      <td>II</td>\n",
       "      <td>Shuckle</td>\n",
       "      <td>Tsubotsubo</td>\n",
       "      <td>bug</td>\n",
       "      <td>rock</td>\n",
       "      <td>Mold Pokémon</td>\n",
       "      <td>50.2</td>\n",
       "      <td>49.8</td>\n",
       "      <td>0.6</td>\n",
       "      <td>...</td>\n",
       "      <td>NaN</td>\n",
       "      <td>NaN</td>\n",
       "      <td>NaN</td>\n",
       "      <td>NaN</td>\n",
       "      <td>NaN</td>\n",
       "      <td>NaN</td>\n",
       "      <td>NaN</td>\n",
       "      <td>NaN</td>\n",
       "      <td>NaN</td>\n",
       "      <td>It stores berries inside its shell. To avoid a...</td>\n",
       "    </tr>\n",
       "    <tr>\n",
       "      <th>244</th>\n",
       "      <td>245</td>\n",
       "      <td>II</td>\n",
       "      <td>Suicune</td>\n",
       "      <td>Suicune</td>\n",
       "      <td>water</td>\n",
       "      <td>NaN</td>\n",
       "      <td>Aurora Pokémon</td>\n",
       "      <td>NaN</td>\n",
       "      <td>NaN</td>\n",
       "      <td>2.0</td>\n",
       "      <td>...</td>\n",
       "      <td>NaN</td>\n",
       "      <td>NaN</td>\n",
       "      <td>NaN</td>\n",
       "      <td>NaN</td>\n",
       "      <td>NaN</td>\n",
       "      <td>NaN</td>\n",
       "      <td>NaN</td>\n",
       "      <td>NaN</td>\n",
       "      <td>NaN</td>\n",
       "      <td>Suicune embodies the compassion of a pure spri...</td>\n",
       "    </tr>\n",
       "    <tr>\n",
       "      <th>248</th>\n",
       "      <td>249</td>\n",
       "      <td>II</td>\n",
       "      <td>Lugia</td>\n",
       "      <td>Lugia</td>\n",
       "      <td>psychic</td>\n",
       "      <td>flying</td>\n",
       "      <td>Diving Pokémon</td>\n",
       "      <td>NaN</td>\n",
       "      <td>NaN</td>\n",
       "      <td>5.2</td>\n",
       "      <td>...</td>\n",
       "      <td>NaN</td>\n",
       "      <td>NaN</td>\n",
       "      <td>NaN</td>\n",
       "      <td>NaN</td>\n",
       "      <td>NaN</td>\n",
       "      <td>NaN</td>\n",
       "      <td>NaN</td>\n",
       "      <td>NaN</td>\n",
       "      <td>NaN</td>\n",
       "      <td>Lugia’s wings pack devastating power—a light f...</td>\n",
       "    </tr>\n",
       "    <tr>\n",
       "      <th>343</th>\n",
       "      <td>344</td>\n",
       "      <td>III</td>\n",
       "      <td>Claydol</td>\n",
       "      <td>Nendoll</td>\n",
       "      <td>ground</td>\n",
       "      <td>psychic</td>\n",
       "      <td>Clay Doll Pokémon</td>\n",
       "      <td>NaN</td>\n",
       "      <td>NaN</td>\n",
       "      <td>1.5</td>\n",
       "      <td>...</td>\n",
       "      <td>Level</td>\n",
       "      <td>Claydol</td>\n",
       "      <td>NaN</td>\n",
       "      <td>NaN</td>\n",
       "      <td>NaN</td>\n",
       "      <td>NaN</td>\n",
       "      <td>NaN</td>\n",
       "      <td>NaN</td>\n",
       "      <td>NaN</td>\n",
       "      <td>This mysterious Pokémon started life as an anc...</td>\n",
       "    </tr>\n",
       "    <tr>\n",
       "      <th>355</th>\n",
       "      <td>356</td>\n",
       "      <td>III</td>\n",
       "      <td>Dusclops</td>\n",
       "      <td>Samayouru</td>\n",
       "      <td>ghost</td>\n",
       "      <td>NaN</td>\n",
       "      <td>Beckon Pokémon</td>\n",
       "      <td>50.2</td>\n",
       "      <td>49.8</td>\n",
       "      <td>1.6</td>\n",
       "      <td>...</td>\n",
       "      <td>Level</td>\n",
       "      <td>Dusclops</td>\n",
       "      <td>Trade with  Reaper Cloth</td>\n",
       "      <td>Dusknoir</td>\n",
       "      <td>NaN</td>\n",
       "      <td>NaN</td>\n",
       "      <td>NaN</td>\n",
       "      <td>NaN</td>\n",
       "      <td>NaN</td>\n",
       "      <td>Its body is entirely hollow. When it opens its...</td>\n",
       "    </tr>\n",
       "    <tr>\n",
       "      <th>378</th>\n",
       "      <td>379</td>\n",
       "      <td>III</td>\n",
       "      <td>Registeel</td>\n",
       "      <td>Registeel</td>\n",
       "      <td>steel</td>\n",
       "      <td>NaN</td>\n",
       "      <td>Iron Pokémon</td>\n",
       "      <td>NaN</td>\n",
       "      <td>NaN</td>\n",
       "      <td>1.9</td>\n",
       "      <td>...</td>\n",
       "      <td>NaN</td>\n",
       "      <td>NaN</td>\n",
       "      <td>NaN</td>\n",
       "      <td>NaN</td>\n",
       "      <td>NaN</td>\n",
       "      <td>NaN</td>\n",
       "      <td>NaN</td>\n",
       "      <td>NaN</td>\n",
       "      <td>NaN</td>\n",
       "      <td>Registeel’s body is made of a strange material...</td>\n",
       "    </tr>\n",
       "    <tr>\n",
       "      <th>410</th>\n",
       "      <td>411</td>\n",
       "      <td>IV</td>\n",
       "      <td>Bastiodon</td>\n",
       "      <td>Torideps</td>\n",
       "      <td>rock</td>\n",
       "      <td>steel</td>\n",
       "      <td>Shield Pokémon</td>\n",
       "      <td>88.1</td>\n",
       "      <td>11.9</td>\n",
       "      <td>1.3</td>\n",
       "      <td>...</td>\n",
       "      <td>Level</td>\n",
       "      <td>Bastiodon</td>\n",
       "      <td>NaN</td>\n",
       "      <td>NaN</td>\n",
       "      <td>NaN</td>\n",
       "      <td>NaN</td>\n",
       "      <td>NaN</td>\n",
       "      <td>NaN</td>\n",
       "      <td>NaN</td>\n",
       "      <td>The bones of its face are huge and hard, so th...</td>\n",
       "    </tr>\n",
       "    <tr>\n",
       "      <th>415</th>\n",
       "      <td>416</td>\n",
       "      <td>IV</td>\n",
       "      <td>Vespiquen</td>\n",
       "      <td>Beequen</td>\n",
       "      <td>bug</td>\n",
       "      <td>flying</td>\n",
       "      <td>Beehive Pokémon</td>\n",
       "      <td>0</td>\n",
       "      <td>100</td>\n",
       "      <td>1.2</td>\n",
       "      <td>...</td>\n",
       "      <td>Female at Level</td>\n",
       "      <td>Vespiquen</td>\n",
       "      <td>NaN</td>\n",
       "      <td>NaN</td>\n",
       "      <td>NaN</td>\n",
       "      <td>NaN</td>\n",
       "      <td>NaN</td>\n",
       "      <td>NaN</td>\n",
       "      <td>NaN</td>\n",
       "      <td>It skillfully commands its grubs in battles wi...</td>\n",
       "    </tr>\n",
       "    <tr>\n",
       "      <th>436</th>\n",
       "      <td>437</td>\n",
       "      <td>IV</td>\n",
       "      <td>Bronzong</td>\n",
       "      <td>Dohtakun</td>\n",
       "      <td>steel</td>\n",
       "      <td>psychic</td>\n",
       "      <td>Bronze Bell Pokémon</td>\n",
       "      <td>NaN</td>\n",
       "      <td>NaN</td>\n",
       "      <td>1.3</td>\n",
       "      <td>...</td>\n",
       "      <td>Level</td>\n",
       "      <td>Bronzong</td>\n",
       "      <td>NaN</td>\n",
       "      <td>NaN</td>\n",
       "      <td>NaN</td>\n",
       "      <td>NaN</td>\n",
       "      <td>NaN</td>\n",
       "      <td>NaN</td>\n",
       "      <td>NaN</td>\n",
       "      <td>Some believe it to be a deity that summons rai...</td>\n",
       "    </tr>\n",
       "    <tr>\n",
       "      <th>441</th>\n",
       "      <td>442</td>\n",
       "      <td>IV</td>\n",
       "      <td>Spiritomb</td>\n",
       "      <td>Mikaruge</td>\n",
       "      <td>ghost</td>\n",
       "      <td>dark</td>\n",
       "      <td>Forbidden Pokémon</td>\n",
       "      <td>50.2</td>\n",
       "      <td>49.8</td>\n",
       "      <td>1.0</td>\n",
       "      <td>...</td>\n",
       "      <td>NaN</td>\n",
       "      <td>NaN</td>\n",
       "      <td>NaN</td>\n",
       "      <td>NaN</td>\n",
       "      <td>NaN</td>\n",
       "      <td>NaN</td>\n",
       "      <td>NaN</td>\n",
       "      <td>NaN</td>\n",
       "      <td>NaN</td>\n",
       "      <td>Exactly 108 spirits gathered to become this Po...</td>\n",
       "    </tr>\n",
       "    <tr>\n",
       "      <th>475</th>\n",
       "      <td>476</td>\n",
       "      <td>IV</td>\n",
       "      <td>Probopass</td>\n",
       "      <td>Dainose</td>\n",
       "      <td>rock</td>\n",
       "      <td>steel</td>\n",
       "      <td>Compass Pokémon</td>\n",
       "      <td>50</td>\n",
       "      <td>50</td>\n",
       "      <td>1.4</td>\n",
       "      <td>...</td>\n",
       "      <td>Level up while at Blush Mountain/Vast Poni Canyon</td>\n",
       "      <td>Probopass</td>\n",
       "      <td>NaN</td>\n",
       "      <td>NaN</td>\n",
       "      <td>NaN</td>\n",
       "      <td>NaN</td>\n",
       "      <td>NaN</td>\n",
       "      <td>NaN</td>\n",
       "      <td>NaN</td>\n",
       "      <td>Although it can control its units known as Min...</td>\n",
       "    </tr>\n",
       "    <tr>\n",
       "      <th>476</th>\n",
       "      <td>477</td>\n",
       "      <td>IV</td>\n",
       "      <td>Dusknoir</td>\n",
       "      <td>Yonoir</td>\n",
       "      <td>ghost</td>\n",
       "      <td>NaN</td>\n",
       "      <td>Gripper Pokémon</td>\n",
       "      <td>50.2</td>\n",
       "      <td>49.8</td>\n",
       "      <td>2.2</td>\n",
       "      <td>...</td>\n",
       "      <td>Level</td>\n",
       "      <td>Dusclops</td>\n",
       "      <td>Trade with  Reaper Cloth</td>\n",
       "      <td>Dusknoir</td>\n",
       "      <td>NaN</td>\n",
       "      <td>NaN</td>\n",
       "      <td>NaN</td>\n",
       "      <td>NaN</td>\n",
       "      <td>NaN</td>\n",
       "      <td>At the bidding of transmissions from the spiri...</td>\n",
       "    </tr>\n",
       "    <tr>\n",
       "      <th>479</th>\n",
       "      <td>480</td>\n",
       "      <td>IV</td>\n",
       "      <td>Uxie</td>\n",
       "      <td>Yuxie</td>\n",
       "      <td>psychic</td>\n",
       "      <td>NaN</td>\n",
       "      <td>Knowledge Pokémon</td>\n",
       "      <td>NaN</td>\n",
       "      <td>NaN</td>\n",
       "      <td>0.3</td>\n",
       "      <td>...</td>\n",
       "      <td>NaN</td>\n",
       "      <td>NaN</td>\n",
       "      <td>NaN</td>\n",
       "      <td>NaN</td>\n",
       "      <td>NaN</td>\n",
       "      <td>NaN</td>\n",
       "      <td>NaN</td>\n",
       "      <td>NaN</td>\n",
       "      <td>NaN</td>\n",
       "      <td>Known as “The Being of Knowledge.” It is said ...</td>\n",
       "    </tr>\n",
       "    <tr>\n",
       "      <th>480</th>\n",
       "      <td>481</td>\n",
       "      <td>IV</td>\n",
       "      <td>Mesprit</td>\n",
       "      <td>Emrit</td>\n",
       "      <td>psychic</td>\n",
       "      <td>NaN</td>\n",
       "      <td>Emotion Pokémon</td>\n",
       "      <td>NaN</td>\n",
       "      <td>NaN</td>\n",
       "      <td>0.3</td>\n",
       "      <td>...</td>\n",
       "      <td>NaN</td>\n",
       "      <td>NaN</td>\n",
       "      <td>NaN</td>\n",
       "      <td>NaN</td>\n",
       "      <td>NaN</td>\n",
       "      <td>NaN</td>\n",
       "      <td>NaN</td>\n",
       "      <td>NaN</td>\n",
       "      <td>NaN</td>\n",
       "      <td>Known as “The Being of Emotion.” It taught hum...</td>\n",
       "    </tr>\n",
       "    <tr>\n",
       "      <th>484</th>\n",
       "      <td>485</td>\n",
       "      <td>IV</td>\n",
       "      <td>Heatran</td>\n",
       "      <td>Heatran</td>\n",
       "      <td>fire</td>\n",
       "      <td>steel</td>\n",
       "      <td>Lava Dome Pokémon</td>\n",
       "      <td>50.2</td>\n",
       "      <td>49.8</td>\n",
       "      <td>1.7</td>\n",
       "      <td>...</td>\n",
       "      <td>NaN</td>\n",
       "      <td>NaN</td>\n",
       "      <td>NaN</td>\n",
       "      <td>NaN</td>\n",
       "      <td>NaN</td>\n",
       "      <td>NaN</td>\n",
       "      <td>NaN</td>\n",
       "      <td>NaN</td>\n",
       "      <td>NaN</td>\n",
       "      <td>It dwells in volcanic caves. It digs in with i...</td>\n",
       "    </tr>\n",
       "    <tr>\n",
       "      <th>485</th>\n",
       "      <td>486</td>\n",
       "      <td>IV</td>\n",
       "      <td>Regigigas</td>\n",
       "      <td>Regigigas</td>\n",
       "      <td>normal</td>\n",
       "      <td>NaN</td>\n",
       "      <td>Colossal Pokémon</td>\n",
       "      <td>NaN</td>\n",
       "      <td>NaN</td>\n",
       "      <td>3.7</td>\n",
       "      <td>...</td>\n",
       "      <td>NaN</td>\n",
       "      <td>NaN</td>\n",
       "      <td>NaN</td>\n",
       "      <td>NaN</td>\n",
       "      <td>NaN</td>\n",
       "      <td>NaN</td>\n",
       "      <td>NaN</td>\n",
       "      <td>NaN</td>\n",
       "      <td>NaN</td>\n",
       "      <td>It is said to have made Pokémon that look like...</td>\n",
       "    </tr>\n",
       "    <tr>\n",
       "      <th>486</th>\n",
       "      <td>487</td>\n",
       "      <td>IV</td>\n",
       "      <td>Giratina</td>\n",
       "      <td>Giratina</td>\n",
       "      <td>ghost</td>\n",
       "      <td>dragon</td>\n",
       "      <td>Renegade Pokémon</td>\n",
       "      <td>NaN</td>\n",
       "      <td>NaN</td>\n",
       "      <td>4.5</td>\n",
       "      <td>...</td>\n",
       "      <td>NaN</td>\n",
       "      <td>NaN</td>\n",
       "      <td>NaN</td>\n",
       "      <td>NaN</td>\n",
       "      <td>NaN</td>\n",
       "      <td>NaN</td>\n",
       "      <td>NaN</td>\n",
       "      <td>NaN</td>\n",
       "      <td>NaN</td>\n",
       "      <td>This Pokémon is said to live in a world on the...</td>\n",
       "    </tr>\n",
       "    <tr>\n",
       "      <th>487</th>\n",
       "      <td>488</td>\n",
       "      <td>IV</td>\n",
       "      <td>Cresselia</td>\n",
       "      <td>Cresselia</td>\n",
       "      <td>psychic</td>\n",
       "      <td>NaN</td>\n",
       "      <td>Lunar Pokémon</td>\n",
       "      <td>0</td>\n",
       "      <td>100</td>\n",
       "      <td>1.5</td>\n",
       "      <td>...</td>\n",
       "      <td>NaN</td>\n",
       "      <td>NaN</td>\n",
       "      <td>NaN</td>\n",
       "      <td>NaN</td>\n",
       "      <td>NaN</td>\n",
       "      <td>NaN</td>\n",
       "      <td>NaN</td>\n",
       "      <td>NaN</td>\n",
       "      <td>NaN</td>\n",
       "      <td>Shiny particles are released from its wings li...</td>\n",
       "    </tr>\n",
       "    <tr>\n",
       "      <th>492</th>\n",
       "      <td>493</td>\n",
       "      <td>IV</td>\n",
       "      <td>Arceus</td>\n",
       "      <td>Arceus</td>\n",
       "      <td>normal</td>\n",
       "      <td>NaN</td>\n",
       "      <td>Alpha Pokémon</td>\n",
       "      <td>NaN</td>\n",
       "      <td>NaN</td>\n",
       "      <td>3.2</td>\n",
       "      <td>...</td>\n",
       "      <td>NaN</td>\n",
       "      <td>NaN</td>\n",
       "      <td>NaN</td>\n",
       "      <td>NaN</td>\n",
       "      <td>NaN</td>\n",
       "      <td>NaN</td>\n",
       "      <td>NaN</td>\n",
       "      <td>NaN</td>\n",
       "      <td>NaN</td>\n",
       "      <td>According to the legends of Sinnoh, this Pokém...</td>\n",
       "    </tr>\n",
       "    <tr>\n",
       "      <th>559</th>\n",
       "      <td>560</td>\n",
       "      <td>V</td>\n",
       "      <td>Scrafty</td>\n",
       "      <td>Zuruzukin</td>\n",
       "      <td>dark</td>\n",
       "      <td>fighting</td>\n",
       "      <td>Hoodlum Pokémon</td>\n",
       "      <td>50.2</td>\n",
       "      <td>49.8</td>\n",
       "      <td>1.1</td>\n",
       "      <td>...</td>\n",
       "      <td>Level</td>\n",
       "      <td>Scrafty</td>\n",
       "      <td>NaN</td>\n",
       "      <td>NaN</td>\n",
       "      <td>NaN</td>\n",
       "      <td>NaN</td>\n",
       "      <td>NaN</td>\n",
       "      <td>NaN</td>\n",
       "      <td>NaN</td>\n",
       "      <td>As halfhearted as this Pokémon’s kicks may see...</td>\n",
       "    </tr>\n",
       "    <tr>\n",
       "      <th>562</th>\n",
       "      <td>563</td>\n",
       "      <td>V</td>\n",
       "      <td>Cofagrigus</td>\n",
       "      <td>Desukarn</td>\n",
       "      <td>ghost</td>\n",
       "      <td>NaN</td>\n",
       "      <td>Coffin Pokémon</td>\n",
       "      <td>50.2</td>\n",
       "      <td>49.8</td>\n",
       "      <td>1.7</td>\n",
       "      <td>...</td>\n",
       "      <td>Level 34</td>\n",
       "      <td>Cofagrigus</td>\n",
       "      <td>NaN</td>\n",
       "      <td>NaN</td>\n",
       "      <td>NaN</td>\n",
       "      <td>NaN</td>\n",
       "      <td>NaN</td>\n",
       "      <td>NaN</td>\n",
       "      <td>NaN</td>\n",
       "      <td>This Pokémon has a body of sparkling gold. Peo...</td>\n",
       "    </tr>\n",
       "    <tr>\n",
       "      <th>588</th>\n",
       "      <td>589</td>\n",
       "      <td>V</td>\n",
       "      <td>Escavalier</td>\n",
       "      <td>Chevargo</td>\n",
       "      <td>bug</td>\n",
       "      <td>steel</td>\n",
       "      <td>Cavalry Pokémon</td>\n",
       "      <td>50.2</td>\n",
       "      <td>49.8</td>\n",
       "      <td>1.0</td>\n",
       "      <td>...</td>\n",
       "      <td>Trade with</td>\n",
       "      <td>Escavalier</td>\n",
       "      <td>NaN</td>\n",
       "      <td>NaN</td>\n",
       "      <td>NaN</td>\n",
       "      <td>NaN</td>\n",
       "      <td>NaN</td>\n",
       "      <td>NaN</td>\n",
       "      <td>NaN</td>\n",
       "      <td>They use shells they’ve stolen from Shelmet to...</td>\n",
       "    </tr>\n",
       "    <tr>\n",
       "      <th>597</th>\n",
       "      <td>598</td>\n",
       "      <td>V</td>\n",
       "      <td>Ferrothorn</td>\n",
       "      <td>Nutrey</td>\n",
       "      <td>grass</td>\n",
       "      <td>steel</td>\n",
       "      <td>Thorn Pod Pokémon</td>\n",
       "      <td>50.2</td>\n",
       "      <td>49.8</td>\n",
       "      <td>1.0</td>\n",
       "      <td>...</td>\n",
       "      <td>Level</td>\n",
       "      <td>Ferrothorn</td>\n",
       "      <td>NaN</td>\n",
       "      <td>NaN</td>\n",
       "      <td>NaN</td>\n",
       "      <td>NaN</td>\n",
       "      <td>NaN</td>\n",
       "      <td>NaN</td>\n",
       "      <td>NaN</td>\n",
       "      <td>This Pokémon scrapes its spikes across rocks, ...</td>\n",
       "    </tr>\n",
       "    <tr>\n",
       "      <th>680</th>\n",
       "      <td>681</td>\n",
       "      <td>VI</td>\n",
       "      <td>Aegislash</td>\n",
       "      <td>Gillgard</td>\n",
       "      <td>steel</td>\n",
       "      <td>ghost</td>\n",
       "      <td>Royal Sword Pokémon</td>\n",
       "      <td>50.2</td>\n",
       "      <td>49.8</td>\n",
       "      <td>1.7</td>\n",
       "      <td>...</td>\n",
       "      <td>Level</td>\n",
       "      <td>Doublade</td>\n",
       "      <td>Use Dusk Stone</td>\n",
       "      <td>Aegislash</td>\n",
       "      <td>NaN</td>\n",
       "      <td>NaN</td>\n",
       "      <td>NaN</td>\n",
       "      <td>NaN</td>\n",
       "      <td>NaN</td>\n",
       "      <td>In this defensive stance, Aegislash uses its s...</td>\n",
       "    </tr>\n",
       "    <tr>\n",
       "      <th>702</th>\n",
       "      <td>703</td>\n",
       "      <td>VI</td>\n",
       "      <td>Carbink</td>\n",
       "      <td>Melecie</td>\n",
       "      <td>rock</td>\n",
       "      <td>fairy</td>\n",
       "      <td>Jewel Pokémon</td>\n",
       "      <td>NaN</td>\n",
       "      <td>NaN</td>\n",
       "      <td>0.3</td>\n",
       "      <td>...</td>\n",
       "      <td>NaN</td>\n",
       "      <td>NaN</td>\n",
       "      <td>NaN</td>\n",
       "      <td>NaN</td>\n",
       "      <td>NaN</td>\n",
       "      <td>NaN</td>\n",
       "      <td>NaN</td>\n",
       "      <td>NaN</td>\n",
       "      <td>NaN</td>\n",
       "      <td>When beset by attackers, Carbink wipes them al...</td>\n",
       "    </tr>\n",
       "    <tr>\n",
       "      <th>718</th>\n",
       "      <td>719</td>\n",
       "      <td>VI</td>\n",
       "      <td>Diancie</td>\n",
       "      <td>Diancie</td>\n",
       "      <td>rock</td>\n",
       "      <td>fairy</td>\n",
       "      <td>Jewel Pokémon</td>\n",
       "      <td>NaN</td>\n",
       "      <td>NaN</td>\n",
       "      <td>0.7</td>\n",
       "      <td>...</td>\n",
       "      <td>NaN</td>\n",
       "      <td>NaN</td>\n",
       "      <td>NaN</td>\n",
       "      <td>NaN</td>\n",
       "      <td>NaN</td>\n",
       "      <td>NaN</td>\n",
       "      <td>NaN</td>\n",
       "      <td>Mega Diancie</td>\n",
       "      <td>NaN</td>\n",
       "      <td>A sudden transformation of Carbink, its pink, ...</td>\n",
       "    </tr>\n",
       "    <tr>\n",
       "      <th>747</th>\n",
       "      <td>748</td>\n",
       "      <td>VII</td>\n",
       "      <td>Toxapex</td>\n",
       "      <td>Dohidoide</td>\n",
       "      <td>poison</td>\n",
       "      <td>water</td>\n",
       "      <td>Brutal Star Pokémon</td>\n",
       "      <td>50.2</td>\n",
       "      <td>49.8</td>\n",
       "      <td>0.7</td>\n",
       "      <td>...</td>\n",
       "      <td>Level</td>\n",
       "      <td>Toxapex</td>\n",
       "      <td>NaN</td>\n",
       "      <td>NaN</td>\n",
       "      <td>NaN</td>\n",
       "      <td>NaN</td>\n",
       "      <td>NaN</td>\n",
       "      <td>NaN</td>\n",
       "      <td>NaN</td>\n",
       "      <td>To survive in the cold waters of Galar, this P...</td>\n",
       "    </tr>\n",
       "    <tr>\n",
       "      <th>770</th>\n",
       "      <td>771</td>\n",
       "      <td>VII</td>\n",
       "      <td>Pyukumuku</td>\n",
       "      <td>Namakobushi</td>\n",
       "      <td>water</td>\n",
       "      <td>NaN</td>\n",
       "      <td>Sea Cucumber Pokémon</td>\n",
       "      <td>50.2</td>\n",
       "      <td>49.8</td>\n",
       "      <td>0.3</td>\n",
       "      <td>...</td>\n",
       "      <td>NaN</td>\n",
       "      <td>NaN</td>\n",
       "      <td>NaN</td>\n",
       "      <td>NaN</td>\n",
       "      <td>NaN</td>\n",
       "      <td>NaN</td>\n",
       "      <td>NaN</td>\n",
       "      <td>NaN</td>\n",
       "      <td>NaN</td>\n",
       "      <td>It lives in warm, shallow waters. If it encoun...</td>\n",
       "    </tr>\n",
       "    <tr>\n",
       "      <th>783</th>\n",
       "      <td>784</td>\n",
       "      <td>VII</td>\n",
       "      <td>Kommo-o</td>\n",
       "      <td>Jyararanga</td>\n",
       "      <td>dragon</td>\n",
       "      <td>fighting</td>\n",
       "      <td>Scaly Pokémon</td>\n",
       "      <td>50.2</td>\n",
       "      <td>49.8</td>\n",
       "      <td>1.6</td>\n",
       "      <td>...</td>\n",
       "      <td>Level</td>\n",
       "      <td>Hakamo-o</td>\n",
       "      <td>Level</td>\n",
       "      <td>Kommo-o</td>\n",
       "      <td>NaN</td>\n",
       "      <td>NaN</td>\n",
       "      <td>NaN</td>\n",
       "      <td>NaN</td>\n",
       "      <td>NaN</td>\n",
       "      <td>It clatters its tail scales to unnerve opponen...</td>\n",
       "    </tr>\n",
       "    <tr>\n",
       "      <th>787</th>\n",
       "      <td>788</td>\n",
       "      <td>VII</td>\n",
       "      <td>Tapu Fini</td>\n",
       "      <td>Kapu-rehire</td>\n",
       "      <td>water</td>\n",
       "      <td>fairy</td>\n",
       "      <td>Land Spirit Pokémon</td>\n",
       "      <td>NaN</td>\n",
       "      <td>NaN</td>\n",
       "      <td>1.3</td>\n",
       "      <td>...</td>\n",
       "      <td>NaN</td>\n",
       "      <td>NaN</td>\n",
       "      <td>NaN</td>\n",
       "      <td>NaN</td>\n",
       "      <td>NaN</td>\n",
       "      <td>NaN</td>\n",
       "      <td>NaN</td>\n",
       "      <td>NaN</td>\n",
       "      <td>NaN</td>\n",
       "      <td>This guardian deity of Poni Island manipulates...</td>\n",
       "    </tr>\n",
       "    <tr>\n",
       "      <th>789</th>\n",
       "      <td>790</td>\n",
       "      <td>VII</td>\n",
       "      <td>Cosmoem</td>\n",
       "      <td>Cosmovum</td>\n",
       "      <td>psychic</td>\n",
       "      <td>NaN</td>\n",
       "      <td>Protostar Pokémon</td>\n",
       "      <td>NaN</td>\n",
       "      <td>NaN</td>\n",
       "      <td>0.1</td>\n",
       "      <td>...</td>\n",
       "      <td>Level</td>\n",
       "      <td>Cosmoem</td>\n",
       "      <td>Level 53 in Specific Game</td>\n",
       "      <td>Solgaleo</td>\n",
       "      <td>Level 53 in Specific Game</td>\n",
       "      <td>Lunala</td>\n",
       "      <td>NaN</td>\n",
       "      <td>NaN</td>\n",
       "      <td>NaN</td>\n",
       "      <td>The king who ruled Alola in times of antiquity...</td>\n",
       "    </tr>\n",
       "    <tr>\n",
       "      <th>796</th>\n",
       "      <td>797</td>\n",
       "      <td>VII</td>\n",
       "      <td>Celesteela</td>\n",
       "      <td>Tekkaguya</td>\n",
       "      <td>steel</td>\n",
       "      <td>flying</td>\n",
       "      <td>Launch Pokémon</td>\n",
       "      <td>NaN</td>\n",
       "      <td>NaN</td>\n",
       "      <td>9.2</td>\n",
       "      <td>...</td>\n",
       "      <td>NaN</td>\n",
       "      <td>NaN</td>\n",
       "      <td>NaN</td>\n",
       "      <td>NaN</td>\n",
       "      <td>NaN</td>\n",
       "      <td>NaN</td>\n",
       "      <td>NaN</td>\n",
       "      <td>NaN</td>\n",
       "      <td>NaN</td>\n",
       "      <td>One of the dangerous UBs, high energy readings...</td>\n",
       "    </tr>\n",
       "    <tr>\n",
       "      <th>800</th>\n",
       "      <td>801</td>\n",
       "      <td>VII</td>\n",
       "      <td>Magearna</td>\n",
       "      <td>Magearna</td>\n",
       "      <td>steel</td>\n",
       "      <td>fairy</td>\n",
       "      <td>Artificial Pokémon</td>\n",
       "      <td>NaN</td>\n",
       "      <td>NaN</td>\n",
       "      <td>1.0</td>\n",
       "      <td>...</td>\n",
       "      <td>NaN</td>\n",
       "      <td>NaN</td>\n",
       "      <td>NaN</td>\n",
       "      <td>NaN</td>\n",
       "      <td>NaN</td>\n",
       "      <td>NaN</td>\n",
       "      <td>NaN</td>\n",
       "      <td>NaN</td>\n",
       "      <td>NaN</td>\n",
       "      <td>It synchronizes its consciousness with others ...</td>\n",
       "    </tr>\n",
       "    <tr>\n",
       "      <th>804</th>\n",
       "      <td>805</td>\n",
       "      <td>VII</td>\n",
       "      <td>Stakataka</td>\n",
       "      <td>Tsundetsunde</td>\n",
       "      <td>rock</td>\n",
       "      <td>steel</td>\n",
       "      <td>Rampart Pokémon</td>\n",
       "      <td>NaN</td>\n",
       "      <td>NaN</td>\n",
       "      <td>5.5</td>\n",
       "      <td>...</td>\n",
       "      <td>NaN</td>\n",
       "      <td>NaN</td>\n",
       "      <td>NaN</td>\n",
       "      <td>NaN</td>\n",
       "      <td>NaN</td>\n",
       "      <td>NaN</td>\n",
       "      <td>NaN</td>\n",
       "      <td>NaN</td>\n",
       "      <td>NaN</td>\n",
       "      <td>It appeared from an Ultra Wormhole. Each one a...</td>\n",
       "    </tr>\n",
       "    <tr>\n",
       "      <th>825</th>\n",
       "      <td>826</td>\n",
       "      <td>VIII</td>\n",
       "      <td>Orbeetle</td>\n",
       "      <td>Iorofu</td>\n",
       "      <td>bug</td>\n",
       "      <td>psychic</td>\n",
       "      <td>Seven Spot Pokémon</td>\n",
       "      <td>50.2</td>\n",
       "      <td>49.8</td>\n",
       "      <td>0.4</td>\n",
       "      <td>...</td>\n",
       "      <td>Level</td>\n",
       "      <td>Dottler</td>\n",
       "      <td>Level</td>\n",
       "      <td>Orbeetle</td>\n",
       "      <td>NaN</td>\n",
       "      <td>NaN</td>\n",
       "      <td>Gigantamax Orbeetle</td>\n",
       "      <td>NaN</td>\n",
       "      <td>NaN</td>\n",
       "      <td>It’s famous for its high level of intelligence...</td>\n",
       "    </tr>\n",
       "    <tr>\n",
       "      <th>866</th>\n",
       "      <td>867</td>\n",
       "      <td>VIII</td>\n",
       "      <td>Runerigus</td>\n",
       "      <td>Desuburn</td>\n",
       "      <td>ground</td>\n",
       "      <td>ghost</td>\n",
       "      <td>Grudge Pokémon</td>\n",
       "      <td>50.2</td>\n",
       "      <td>49.8</td>\n",
       "      <td>1.6</td>\n",
       "      <td>...</td>\n",
       "      <td>Level 34</td>\n",
       "      <td>Cofagrigus</td>\n",
       "      <td>NaN</td>\n",
       "      <td>NaN</td>\n",
       "      <td>NaN</td>\n",
       "      <td>NaN</td>\n",
       "      <td>NaN</td>\n",
       "      <td>NaN</td>\n",
       "      <td>NaN</td>\n",
       "      <td>A powerful curse was woven into an ancient pai...</td>\n",
       "    </tr>\n",
       "    <tr>\n",
       "      <th>887</th>\n",
       "      <td>888</td>\n",
       "      <td>VIII</td>\n",
       "      <td>Zacian</td>\n",
       "      <td>Zacian</td>\n",
       "      <td>fairy</td>\n",
       "      <td>fairy</td>\n",
       "      <td>Warrior Pokémon</td>\n",
       "      <td>NaN</td>\n",
       "      <td>NaN</td>\n",
       "      <td>2.8</td>\n",
       "      <td>...</td>\n",
       "      <td>NaN</td>\n",
       "      <td>NaN</td>\n",
       "      <td>NaN</td>\n",
       "      <td>NaN</td>\n",
       "      <td>NaN</td>\n",
       "      <td>NaN</td>\n",
       "      <td>NaN</td>\n",
       "      <td>NaN</td>\n",
       "      <td>NaN</td>\n",
       "      <td>Known as a legendary hero, this Pokémon absorb...</td>\n",
       "    </tr>\n",
       "    <tr>\n",
       "      <th>888</th>\n",
       "      <td>889</td>\n",
       "      <td>VIII</td>\n",
       "      <td>Zamazenta</td>\n",
       "      <td>Zamazenta</td>\n",
       "      <td>fighting</td>\n",
       "      <td>fighting</td>\n",
       "      <td>Warrior Pokémon</td>\n",
       "      <td>NaN</td>\n",
       "      <td>NaN</td>\n",
       "      <td>2.9</td>\n",
       "      <td>...</td>\n",
       "      <td>NaN</td>\n",
       "      <td>NaN</td>\n",
       "      <td>NaN</td>\n",
       "      <td>NaN</td>\n",
       "      <td>NaN</td>\n",
       "      <td>NaN</td>\n",
       "      <td>NaN</td>\n",
       "      <td>NaN</td>\n",
       "      <td>NaN</td>\n",
       "      <td>In times past, it worked together with a king ...</td>\n",
       "    </tr>\n",
       "    <tr>\n",
       "      <th>895</th>\n",
       "      <td>896</td>\n",
       "      <td>VIII</td>\n",
       "      <td>Glastrier</td>\n",
       "      <td>Blizapos</td>\n",
       "      <td>ice</td>\n",
       "      <td>NaN</td>\n",
       "      <td>Wild Horse Pokémon</td>\n",
       "      <td>NaN</td>\n",
       "      <td>NaN</td>\n",
       "      <td>2.2</td>\n",
       "      <td>...</td>\n",
       "      <td>NaN</td>\n",
       "      <td>NaN</td>\n",
       "      <td>NaN</td>\n",
       "      <td>NaN</td>\n",
       "      <td>NaN</td>\n",
       "      <td>NaN</td>\n",
       "      <td>NaN</td>\n",
       "      <td>NaN</td>\n",
       "      <td>NaN</td>\n",
       "      <td>Glastrier emits intense cold from its hooves. ...</td>\n",
       "    </tr>\n",
       "  </tbody>\n",
       "</table>\n",
       "<p>40 rows × 55 columns</p>\n",
       "</div>"
      ],
      "text/plain": [
       "     national_number generation english_name japanese_name primary_type  \\\n",
       "196              197         II      Umbreon        Blacky         dark   \n",
       "212              213         II      Shuckle    Tsubotsubo          bug   \n",
       "244              245         II      Suicune       Suicune        water   \n",
       "248              249         II        Lugia         Lugia      psychic   \n",
       "343              344        III      Claydol       Nendoll       ground   \n",
       "355              356        III     Dusclops     Samayouru        ghost   \n",
       "378              379        III    Registeel     Registeel        steel   \n",
       "410              411         IV    Bastiodon      Torideps         rock   \n",
       "415              416         IV    Vespiquen       Beequen          bug   \n",
       "436              437         IV     Bronzong      Dohtakun        steel   \n",
       "441              442         IV    Spiritomb      Mikaruge        ghost   \n",
       "475              476         IV    Probopass       Dainose         rock   \n",
       "476              477         IV     Dusknoir        Yonoir        ghost   \n",
       "479              480         IV         Uxie         Yuxie      psychic   \n",
       "480              481         IV      Mesprit         Emrit      psychic   \n",
       "484              485         IV      Heatran       Heatran         fire   \n",
       "485              486         IV    Regigigas     Regigigas       normal   \n",
       "486              487         IV     Giratina      Giratina        ghost   \n",
       "487              488         IV    Cresselia     Cresselia      psychic   \n",
       "492              493         IV       Arceus        Arceus       normal   \n",
       "559              560          V      Scrafty     Zuruzukin         dark   \n",
       "562              563          V   Cofagrigus      Desukarn        ghost   \n",
       "588              589          V   Escavalier      Chevargo          bug   \n",
       "597              598          V   Ferrothorn        Nutrey        grass   \n",
       "680              681         VI    Aegislash      Gillgard        steel   \n",
       "702              703         VI      Carbink       Melecie         rock   \n",
       "718              719         VI      Diancie       Diancie         rock   \n",
       "747              748        VII      Toxapex     Dohidoide       poison   \n",
       "770              771        VII    Pyukumuku   Namakobushi        water   \n",
       "783              784        VII      Kommo-o    Jyararanga       dragon   \n",
       "787              788        VII    Tapu Fini   Kapu-rehire        water   \n",
       "789              790        VII      Cosmoem      Cosmovum      psychic   \n",
       "796              797        VII   Celesteela     Tekkaguya        steel   \n",
       "800              801        VII     Magearna      Magearna        steel   \n",
       "804              805        VII    Stakataka  Tsundetsunde         rock   \n",
       "825              826       VIII     Orbeetle        Iorofu          bug   \n",
       "866              867       VIII    Runerigus      Desuburn       ground   \n",
       "887              888       VIII       Zacian        Zacian        fairy   \n",
       "888              889       VIII    Zamazenta     Zamazenta     fighting   \n",
       "895              896       VIII    Glastrier      Blizapos          ice   \n",
       "\n",
       "    secondary_type        classification percent_male percent_female  \\\n",
       "196            NaN     Moonlight Pokémon        88.14          11.86   \n",
       "212           rock          Mold Pokémon         50.2           49.8   \n",
       "244            NaN        Aurora Pokémon          NaN            NaN   \n",
       "248         flying        Diving Pokémon          NaN            NaN   \n",
       "343        psychic     Clay Doll Pokémon          NaN            NaN   \n",
       "355            NaN        Beckon Pokémon         50.2           49.8   \n",
       "378            NaN          Iron Pokémon          NaN            NaN   \n",
       "410          steel        Shield Pokémon         88.1           11.9   \n",
       "415         flying       Beehive Pokémon            0            100   \n",
       "436        psychic   Bronze Bell Pokémon          NaN            NaN   \n",
       "441           dark     Forbidden Pokémon         50.2           49.8   \n",
       "475          steel       Compass Pokémon           50             50   \n",
       "476            NaN       Gripper Pokémon         50.2           49.8   \n",
       "479            NaN     Knowledge Pokémon          NaN            NaN   \n",
       "480            NaN       Emotion Pokémon          NaN            NaN   \n",
       "484          steel     Lava Dome Pokémon         50.2           49.8   \n",
       "485            NaN      Colossal Pokémon          NaN            NaN   \n",
       "486         dragon      Renegade Pokémon          NaN            NaN   \n",
       "487            NaN         Lunar Pokémon            0            100   \n",
       "492            NaN         Alpha Pokémon          NaN            NaN   \n",
       "559       fighting       Hoodlum Pokémon         50.2           49.8   \n",
       "562            NaN        Coffin Pokémon         50.2           49.8   \n",
       "588          steel       Cavalry Pokémon         50.2           49.8   \n",
       "597          steel     Thorn Pod Pokémon         50.2           49.8   \n",
       "680          ghost   Royal Sword Pokémon         50.2           49.8   \n",
       "702          fairy         Jewel Pokémon          NaN            NaN   \n",
       "718          fairy         Jewel Pokémon          NaN            NaN   \n",
       "747          water   Brutal Star Pokémon         50.2           49.8   \n",
       "770            NaN  Sea Cucumber Pokémon         50.2           49.8   \n",
       "783       fighting         Scaly Pokémon         50.2           49.8   \n",
       "787          fairy   Land Spirit Pokémon          NaN            NaN   \n",
       "789            NaN     Protostar Pokémon          NaN            NaN   \n",
       "796         flying        Launch Pokémon          NaN            NaN   \n",
       "800          fairy    Artificial Pokémon          NaN            NaN   \n",
       "804          steel       Rampart Pokémon          NaN            NaN   \n",
       "825        psychic    Seven Spot Pokémon         50.2           49.8   \n",
       "866          ghost        Grudge Pokémon         50.2           49.8   \n",
       "887          fairy       Warrior Pokémon          NaN            NaN   \n",
       "888       fighting       Warrior Pokémon          NaN            NaN   \n",
       "895            NaN    Wild Horse Pokémon          NaN            NaN   \n",
       "\n",
       "     height_m  ...                                         evochain_1  \\\n",
       "196       1.0  ...                                                NaN   \n",
       "212       0.6  ...                                                NaN   \n",
       "244       2.0  ...                                                NaN   \n",
       "248       5.2  ...                                                NaN   \n",
       "343       1.5  ...                                             Level    \n",
       "355       1.6  ...                                             Level    \n",
       "378       1.9  ...                                                NaN   \n",
       "410       1.3  ...                                             Level    \n",
       "415       1.2  ...                                   Female at Level    \n",
       "436       1.3  ...                                             Level    \n",
       "441       1.0  ...                                                NaN   \n",
       "475       1.4  ...  Level up while at Blush Mountain/Vast Poni Canyon   \n",
       "476       2.2  ...                                             Level    \n",
       "479       0.3  ...                                                NaN   \n",
       "480       0.3  ...                                                NaN   \n",
       "484       1.7  ...                                                NaN   \n",
       "485       3.7  ...                                                NaN   \n",
       "486       4.5  ...                                                NaN   \n",
       "487       1.5  ...                                                NaN   \n",
       "492       3.2  ...                                                NaN   \n",
       "559       1.1  ...                                             Level    \n",
       "562       1.7  ...                                           Level 34   \n",
       "588       1.0  ...                                        Trade with    \n",
       "597       1.0  ...                                             Level    \n",
       "680       1.7  ...                                             Level    \n",
       "702       0.3  ...                                                NaN   \n",
       "718       0.7  ...                                                NaN   \n",
       "747       0.7  ...                                             Level    \n",
       "770       0.3  ...                                                NaN   \n",
       "783       1.6  ...                                             Level    \n",
       "787       1.3  ...                                                NaN   \n",
       "789       0.1  ...                                              Level   \n",
       "796       9.2  ...                                                NaN   \n",
       "800       1.0  ...                                                NaN   \n",
       "804       5.5  ...                                                NaN   \n",
       "825       0.4  ...                                             Level    \n",
       "866       1.6  ...                                           Level 34   \n",
       "887       2.8  ...                                                NaN   \n",
       "888       2.9  ...                                                NaN   \n",
       "895       2.2  ...                                                NaN   \n",
       "\n",
       "     evochain_2                 evochain_3  evochain_4  \\\n",
       "196         NaN                        NaN         NaN   \n",
       "212         NaN                        NaN         NaN   \n",
       "244         NaN                        NaN         NaN   \n",
       "248         NaN                        NaN         NaN   \n",
       "343     Claydol                        NaN         NaN   \n",
       "355    Dusclops   Trade with  Reaper Cloth    Dusknoir   \n",
       "378         NaN                        NaN         NaN   \n",
       "410   Bastiodon                        NaN         NaN   \n",
       "415   Vespiquen                        NaN         NaN   \n",
       "436    Bronzong                        NaN         NaN   \n",
       "441         NaN                        NaN         NaN   \n",
       "475   Probopass                        NaN         NaN   \n",
       "476    Dusclops   Trade with  Reaper Cloth    Dusknoir   \n",
       "479         NaN                        NaN         NaN   \n",
       "480         NaN                        NaN         NaN   \n",
       "484         NaN                        NaN         NaN   \n",
       "485         NaN                        NaN         NaN   \n",
       "486         NaN                        NaN         NaN   \n",
       "487         NaN                        NaN         NaN   \n",
       "492         NaN                        NaN         NaN   \n",
       "559     Scrafty                        NaN         NaN   \n",
       "562  Cofagrigus                        NaN         NaN   \n",
       "588  Escavalier                        NaN         NaN   \n",
       "597  Ferrothorn                        NaN         NaN   \n",
       "680    Doublade             Use Dusk Stone   Aegislash   \n",
       "702         NaN                        NaN         NaN   \n",
       "718         NaN                        NaN         NaN   \n",
       "747     Toxapex                        NaN         NaN   \n",
       "770         NaN                        NaN         NaN   \n",
       "783    Hakamo-o                     Level      Kommo-o   \n",
       "787         NaN                        NaN         NaN   \n",
       "789     Cosmoem  Level 53 in Specific Game    Solgaleo   \n",
       "796         NaN                        NaN         NaN   \n",
       "800         NaN                        NaN         NaN   \n",
       "804         NaN                        NaN         NaN   \n",
       "825     Dottler                     Level     Orbeetle   \n",
       "866  Cofagrigus                        NaN         NaN   \n",
       "887         NaN                        NaN         NaN   \n",
       "888         NaN                        NaN         NaN   \n",
       "895         NaN                        NaN         NaN   \n",
       "\n",
       "                    evochain_5  evochain_6           gigantamax  \\\n",
       "196                        NaN         NaN                  NaN   \n",
       "212                        NaN         NaN                  NaN   \n",
       "244                        NaN         NaN                  NaN   \n",
       "248                        NaN         NaN                  NaN   \n",
       "343                        NaN         NaN                  NaN   \n",
       "355                        NaN         NaN                  NaN   \n",
       "378                        NaN         NaN                  NaN   \n",
       "410                        NaN         NaN                  NaN   \n",
       "415                        NaN         NaN                  NaN   \n",
       "436                        NaN         NaN                  NaN   \n",
       "441                        NaN         NaN                  NaN   \n",
       "475                        NaN         NaN                  NaN   \n",
       "476                        NaN         NaN                  NaN   \n",
       "479                        NaN         NaN                  NaN   \n",
       "480                        NaN         NaN                  NaN   \n",
       "484                        NaN         NaN                  NaN   \n",
       "485                        NaN         NaN                  NaN   \n",
       "486                        NaN         NaN                  NaN   \n",
       "487                        NaN         NaN                  NaN   \n",
       "492                        NaN         NaN                  NaN   \n",
       "559                        NaN         NaN                  NaN   \n",
       "562                        NaN         NaN                  NaN   \n",
       "588                        NaN         NaN                  NaN   \n",
       "597                        NaN         NaN                  NaN   \n",
       "680                        NaN         NaN                  NaN   \n",
       "702                        NaN         NaN                  NaN   \n",
       "718                        NaN         NaN                  NaN   \n",
       "747                        NaN         NaN                  NaN   \n",
       "770                        NaN         NaN                  NaN   \n",
       "783                        NaN         NaN                  NaN   \n",
       "787                        NaN         NaN                  NaN   \n",
       "789  Level 53 in Specific Game      Lunala                  NaN   \n",
       "796                        NaN         NaN                  NaN   \n",
       "800                        NaN         NaN                  NaN   \n",
       "804                        NaN         NaN                  NaN   \n",
       "825                        NaN         NaN  Gigantamax Orbeetle   \n",
       "866                        NaN         NaN                  NaN   \n",
       "887                        NaN         NaN                  NaN   \n",
       "888                        NaN         NaN                  NaN   \n",
       "895                        NaN         NaN                  NaN   \n",
       "\n",
       "     mega_evolution  mega_evolution_alt  \\\n",
       "196             NaN                 NaN   \n",
       "212             NaN                 NaN   \n",
       "244             NaN                 NaN   \n",
       "248             NaN                 NaN   \n",
       "343             NaN                 NaN   \n",
       "355             NaN                 NaN   \n",
       "378             NaN                 NaN   \n",
       "410             NaN                 NaN   \n",
       "415             NaN                 NaN   \n",
       "436             NaN                 NaN   \n",
       "441             NaN                 NaN   \n",
       "475             NaN                 NaN   \n",
       "476             NaN                 NaN   \n",
       "479             NaN                 NaN   \n",
       "480             NaN                 NaN   \n",
       "484             NaN                 NaN   \n",
       "485             NaN                 NaN   \n",
       "486             NaN                 NaN   \n",
       "487             NaN                 NaN   \n",
       "492             NaN                 NaN   \n",
       "559             NaN                 NaN   \n",
       "562             NaN                 NaN   \n",
       "588             NaN                 NaN   \n",
       "597             NaN                 NaN   \n",
       "680             NaN                 NaN   \n",
       "702             NaN                 NaN   \n",
       "718    Mega Diancie                 NaN   \n",
       "747             NaN                 NaN   \n",
       "770             NaN                 NaN   \n",
       "783             NaN                 NaN   \n",
       "787             NaN                 NaN   \n",
       "789             NaN                 NaN   \n",
       "796             NaN                 NaN   \n",
       "800             NaN                 NaN   \n",
       "804             NaN                 NaN   \n",
       "825             NaN                 NaN   \n",
       "866             NaN                 NaN   \n",
       "887             NaN                 NaN   \n",
       "888             NaN                 NaN   \n",
       "895             NaN                 NaN   \n",
       "\n",
       "                                           description  \n",
       "196  When this Pokémon becomes angry, its pores sec...  \n",
       "212  It stores berries inside its shell. To avoid a...  \n",
       "244  Suicune embodies the compassion of a pure spri...  \n",
       "248  Lugia’s wings pack devastating power—a light f...  \n",
       "343  This mysterious Pokémon started life as an anc...  \n",
       "355  Its body is entirely hollow. When it opens its...  \n",
       "378  Registeel’s body is made of a strange material...  \n",
       "410  The bones of its face are huge and hard, so th...  \n",
       "415  It skillfully commands its grubs in battles wi...  \n",
       "436  Some believe it to be a deity that summons rai...  \n",
       "441  Exactly 108 spirits gathered to become this Po...  \n",
       "475  Although it can control its units known as Min...  \n",
       "476  At the bidding of transmissions from the spiri...  \n",
       "479  Known as “The Being of Knowledge.” It is said ...  \n",
       "480  Known as “The Being of Emotion.” It taught hum...  \n",
       "484  It dwells in volcanic caves. It digs in with i...  \n",
       "485  It is said to have made Pokémon that look like...  \n",
       "486  This Pokémon is said to live in a world on the...  \n",
       "487  Shiny particles are released from its wings li...  \n",
       "492  According to the legends of Sinnoh, this Pokém...  \n",
       "559  As halfhearted as this Pokémon’s kicks may see...  \n",
       "562  This Pokémon has a body of sparkling gold. Peo...  \n",
       "588  They use shells they’ve stolen from Shelmet to...  \n",
       "597  This Pokémon scrapes its spikes across rocks, ...  \n",
       "680  In this defensive stance, Aegislash uses its s...  \n",
       "702  When beset by attackers, Carbink wipes them al...  \n",
       "718  A sudden transformation of Carbink, its pink, ...  \n",
       "747  To survive in the cold waters of Galar, this P...  \n",
       "770  It lives in warm, shallow waters. If it encoun...  \n",
       "783  It clatters its tail scales to unnerve opponen...  \n",
       "787  This guardian deity of Poni Island manipulates...  \n",
       "789  The king who ruled Alola in times of antiquity...  \n",
       "796  One of the dangerous UBs, high energy readings...  \n",
       "800  It synchronizes its consciousness with others ...  \n",
       "804  It appeared from an Ultra Wormhole. Each one a...  \n",
       "825  It’s famous for its high level of intelligence...  \n",
       "866  A powerful curse was woven into an ancient pai...  \n",
       "887  Known as a legendary hero, this Pokémon absorb...  \n",
       "888  In times past, it worked together with a king ...  \n",
       "895  Glastrier emits intense cold from its hooves. ...  \n",
       "\n",
       "[40 rows x 55 columns]"
      ]
     },
     "execution_count": 6,
     "metadata": {},
     "output_type": "execute_result"
    }
   ],
   "source": [
    "pokemon_df[(pokemon_df['defense'] > 100) & (pokemon_df['sp_defense'] > 100)]"
   ]
  },
  {
   "cell_type": "code",
   "execution_count": 7,
   "id": "3d79ec72-d47d-4cc8-9194-908c0239b872",
   "metadata": {},
   "outputs": [
    {
     "data": {
      "text/plain": [
       "np.float64(76.5445434298441)"
      ]
     },
     "execution_count": 7,
     "metadata": {},
     "output_type": "execute_result"
    }
   ],
   "source": [
    "pokemon_df['attack'].mean()"
   ]
  },
  {
   "cell_type": "code",
   "execution_count": 8,
   "id": "e9b540d1-525a-4827-b417-77518a016ed5",
   "metadata": {},
   "outputs": [
    {
     "data": {
      "text/html": [
       "<div>\n",
       "<style scoped>\n",
       "    .dataframe tbody tr th:only-of-type {\n",
       "        vertical-align: middle;\n",
       "    }\n",
       "\n",
       "    .dataframe tbody tr th {\n",
       "        vertical-align: top;\n",
       "    }\n",
       "\n",
       "    .dataframe thead th {\n",
       "        text-align: right;\n",
       "    }\n",
       "</style>\n",
       "<table border=\"1\" class=\"dataframe\">\n",
       "  <thead>\n",
       "    <tr style=\"text-align: right;\">\n",
       "      <th></th>\n",
       "      <th>national_number</th>\n",
       "      <th>height_m</th>\n",
       "      <th>weight_kg</th>\n",
       "      <th>base_egg_steps</th>\n",
       "      <th>hp</th>\n",
       "      <th>attack</th>\n",
       "      <th>defense</th>\n",
       "      <th>sp_attack</th>\n",
       "      <th>sp_defense</th>\n",
       "      <th>speed</th>\n",
       "      <th>...</th>\n",
       "      <th>against_bug</th>\n",
       "      <th>against_rock</th>\n",
       "      <th>against_ghost</th>\n",
       "      <th>against_dragon</th>\n",
       "      <th>against_dark</th>\n",
       "      <th>against_steel</th>\n",
       "      <th>against_fairy</th>\n",
       "      <th>is_sublegendary</th>\n",
       "      <th>is_legendary</th>\n",
       "      <th>is_mythical</th>\n",
       "    </tr>\n",
       "  </thead>\n",
       "  <tbody>\n",
       "    <tr>\n",
       "      <th>count</th>\n",
       "      <td>898</td>\n",
       "      <td>898</td>\n",
       "      <td>898</td>\n",
       "      <td>898</td>\n",
       "      <td>898</td>\n",
       "      <td>898</td>\n",
       "      <td>898</td>\n",
       "      <td>898</td>\n",
       "      <td>898</td>\n",
       "      <td>898</td>\n",
       "      <td>...</td>\n",
       "      <td>898</td>\n",
       "      <td>898</td>\n",
       "      <td>898</td>\n",
       "      <td>898</td>\n",
       "      <td>898</td>\n",
       "      <td>898</td>\n",
       "      <td>898</td>\n",
       "      <td>898</td>\n",
       "      <td>898</td>\n",
       "      <td>898</td>\n",
       "    </tr>\n",
       "    <tr>\n",
       "      <th>mean</th>\n",
       "      <td>449</td>\n",
       "      <td>1</td>\n",
       "      <td>63</td>\n",
       "      <td>7544</td>\n",
       "      <td>69</td>\n",
       "      <td>76</td>\n",
       "      <td>71</td>\n",
       "      <td>69</td>\n",
       "      <td>69</td>\n",
       "      <td>65</td>\n",
       "      <td>...</td>\n",
       "      <td>0</td>\n",
       "      <td>1</td>\n",
       "      <td>0</td>\n",
       "      <td>0</td>\n",
       "      <td>1</td>\n",
       "      <td>0</td>\n",
       "      <td>1</td>\n",
       "      <td>0</td>\n",
       "      <td>0</td>\n",
       "      <td>0</td>\n",
       "    </tr>\n",
       "    <tr>\n",
       "      <th>std</th>\n",
       "      <td>259</td>\n",
       "      <td>1</td>\n",
       "      <td>119</td>\n",
       "      <td>7101</td>\n",
       "      <td>26</td>\n",
       "      <td>29</td>\n",
       "      <td>29</td>\n",
       "      <td>29</td>\n",
       "      <td>27</td>\n",
       "      <td>28</td>\n",
       "      <td>...</td>\n",
       "      <td>0</td>\n",
       "      <td>0</td>\n",
       "      <td>0</td>\n",
       "      <td>0</td>\n",
       "      <td>0</td>\n",
       "      <td>0</td>\n",
       "      <td>0</td>\n",
       "      <td>0</td>\n",
       "      <td>0</td>\n",
       "      <td>0</td>\n",
       "    </tr>\n",
       "    <tr>\n",
       "      <th>min</th>\n",
       "      <td>1</td>\n",
       "      <td>0</td>\n",
       "      <td>0</td>\n",
       "      <td>1280</td>\n",
       "      <td>1</td>\n",
       "      <td>5</td>\n",
       "      <td>5</td>\n",
       "      <td>10</td>\n",
       "      <td>20</td>\n",
       "      <td>5</td>\n",
       "      <td>...</td>\n",
       "      <td>0</td>\n",
       "      <td>0</td>\n",
       "      <td>0</td>\n",
       "      <td>0</td>\n",
       "      <td>0</td>\n",
       "      <td>0</td>\n",
       "      <td>0</td>\n",
       "      <td>0</td>\n",
       "      <td>0</td>\n",
       "      <td>0</td>\n",
       "    </tr>\n",
       "    <tr>\n",
       "      <th>25%</th>\n",
       "      <td>225</td>\n",
       "      <td>0</td>\n",
       "      <td>8</td>\n",
       "      <td>5120</td>\n",
       "      <td>50</td>\n",
       "      <td>55</td>\n",
       "      <td>50</td>\n",
       "      <td>46</td>\n",
       "      <td>50</td>\n",
       "      <td>45</td>\n",
       "      <td>...</td>\n",
       "      <td>0</td>\n",
       "      <td>1</td>\n",
       "      <td>1</td>\n",
       "      <td>1</td>\n",
       "      <td>1</td>\n",
       "      <td>0</td>\n",
       "      <td>1</td>\n",
       "      <td>0</td>\n",
       "      <td>0</td>\n",
       "      <td>0</td>\n",
       "    </tr>\n",
       "    <tr>\n",
       "      <th>50%</th>\n",
       "      <td>449</td>\n",
       "      <td>1</td>\n",
       "      <td>27</td>\n",
       "      <td>5120</td>\n",
       "      <td>65</td>\n",
       "      <td>75</td>\n",
       "      <td>67</td>\n",
       "      <td>65</td>\n",
       "      <td>65</td>\n",
       "      <td>65</td>\n",
       "      <td>...</td>\n",
       "      <td>1</td>\n",
       "      <td>1</td>\n",
       "      <td>1</td>\n",
       "      <td>1</td>\n",
       "      <td>1</td>\n",
       "      <td>1</td>\n",
       "      <td>1</td>\n",
       "      <td>0</td>\n",
       "      <td>0</td>\n",
       "      <td>0</td>\n",
       "    </tr>\n",
       "    <tr>\n",
       "      <th>75%</th>\n",
       "      <td>673</td>\n",
       "      <td>1</td>\n",
       "      <td>65</td>\n",
       "      <td>6400</td>\n",
       "      <td>80</td>\n",
       "      <td>95</td>\n",
       "      <td>90</td>\n",
       "      <td>90</td>\n",
       "      <td>85</td>\n",
       "      <td>85</td>\n",
       "      <td>...</td>\n",
       "      <td>1</td>\n",
       "      <td>2</td>\n",
       "      <td>1</td>\n",
       "      <td>1</td>\n",
       "      <td>1</td>\n",
       "      <td>1</td>\n",
       "      <td>1</td>\n",
       "      <td>0</td>\n",
       "      <td>0</td>\n",
       "      <td>0</td>\n",
       "    </tr>\n",
       "    <tr>\n",
       "      <th>max</th>\n",
       "      <td>898</td>\n",
       "      <td>20</td>\n",
       "      <td>999</td>\n",
       "      <td>30720</td>\n",
       "      <td>255</td>\n",
       "      <td>181</td>\n",
       "      <td>230</td>\n",
       "      <td>173</td>\n",
       "      <td>230</td>\n",
       "      <td>200</td>\n",
       "      <td>...</td>\n",
       "      <td>4</td>\n",
       "      <td>4</td>\n",
       "      <td>4</td>\n",
       "      <td>2</td>\n",
       "      <td>4</td>\n",
       "      <td>4</td>\n",
       "      <td>4</td>\n",
       "      <td>1</td>\n",
       "      <td>1</td>\n",
       "      <td>1</td>\n",
       "    </tr>\n",
       "  </tbody>\n",
       "</table>\n",
       "<p>8 rows × 31 columns</p>\n",
       "</div>"
      ],
      "text/plain": [
       "       national_number  height_m  weight_kg  base_egg_steps   hp  attack  \\\n",
       "count              898       898        898             898  898     898   \n",
       "mean               449         1         63            7544   69      76   \n",
       "std                259         1        119            7101   26      29   \n",
       "min                  1         0          0            1280    1       5   \n",
       "25%                225         0          8            5120   50      55   \n",
       "50%                449         1         27            5120   65      75   \n",
       "75%                673         1         65            6400   80      95   \n",
       "max                898        20        999           30720  255     181   \n",
       "\n",
       "       defense  sp_attack  sp_defense  speed  ...  against_bug  against_rock  \\\n",
       "count      898        898         898    898  ...          898           898   \n",
       "mean        71         69          69     65  ...            0             1   \n",
       "std         29         29          27     28  ...            0             0   \n",
       "min          5         10          20      5  ...            0             0   \n",
       "25%         50         46          50     45  ...            0             1   \n",
       "50%         67         65          65     65  ...            1             1   \n",
       "75%         90         90          85     85  ...            1             2   \n",
       "max        230        173         230    200  ...            4             4   \n",
       "\n",
       "       against_ghost  against_dragon  against_dark  against_steel  \\\n",
       "count            898             898           898            898   \n",
       "mean               0               0             1              0   \n",
       "std                0               0             0              0   \n",
       "min                0               0             0              0   \n",
       "25%                1               1             1              0   \n",
       "50%                1               1             1              1   \n",
       "75%                1               1             1              1   \n",
       "max                4               2             4              4   \n",
       "\n",
       "       against_fairy  is_sublegendary  is_legendary  is_mythical  \n",
       "count            898              898           898          898  \n",
       "mean               1                0             0            0  \n",
       "std                0                0             0            0  \n",
       "min                0                0             0            0  \n",
       "25%                1                0             0            0  \n",
       "50%                1                0             0            0  \n",
       "75%                1                0             0            0  \n",
       "max                4                1             1            1  \n",
       "\n",
       "[8 rows x 31 columns]"
      ]
     },
     "execution_count": 8,
     "metadata": {},
     "output_type": "execute_result"
    }
   ],
   "source": [
    "pokemon_df.describe().astype(int)"
   ]
  },
  {
   "cell_type": "code",
   "execution_count": 1,
   "id": "eedfb82f-0c4b-4651-87e4-0fa0c19069f0",
   "metadata": {},
   "outputs": [],
   "source": [
    "# pokemon_df[pokemon_df['primary_type'] == 'Fighting'].describe().astype(int)"
   ]
  },
  {
   "cell_type": "code",
   "execution_count": 2,
   "id": "856ee9f8-dd35-4d35-830b-7f57eb18a4ba",
   "metadata": {},
   "outputs": [
    {
     "data": {
      "image/png": "[encoded data removed]",
      "text/plain": [
       "<Figure size 1000x600 with 1 Axes>"
      ]
     },
     "metadata": {},
     "output_type": "display_data"
    }
   ],
   "source": [
    "import seaborn as sns\n",
    "import matplotlib.pyplot as plt\n",
    "import numpy as np\n",
    "from matplotlib.colors import LinearSegmentedColormap\n",
    "\n",
    "def generate_pokemon_stat_chart(pokemon_df, pokemon_name):\n",
    "    \"\"\"\n",
    "    Generates an enhanced bar chart displaying base stats for a given Pokémon.\n",
    "    Filters for HP, Attack, Defense, Sp. Atk, Sp. Def, and Speed.\n",
    "    \"\"\"\n",
    "    pokemon_data = pokemon_df[pokemon_df[\"english_name\"] == pokemon_name].copy()\n",
    "\n",
    "    if pokemon_data.empty:\n",
    "        raise ValueError(f\"❌ No matching Pokémon found for '{pokemon_name}'.\")\n",
    "\n",
    "    selected_stats = [\"hp\", \"attack\", \"defense\", \"sp_attack\", \"sp_defense\", \"speed\"]\n",
    "    pokemon_data = pokemon_data[selected_stats]\n",
    "    stat_values = pokemon_data.values.flatten()\n",
    "\n",
    "    colors = LinearSegmentedColormap.from_list(\"custom\", [\"#32CD32\", \"#FFA500\", \"#FF0000\"], N=len(stat_values))\n",
    "    palette = [colors(i / (len(stat_values) - 1)) for i in range(len(stat_values))]\n",
    "\n",
    "    plt.figure(figsize=(10, 6))\n",
    "    ax = sns.barplot(x=stat_values, y=selected_stats, orient=\"h\", palette=palette, hue=selected_stats, legend=False)\n",
    "\n",
    "    for bar, value in zip(ax.patches, stat_values):\n",
    "        text_color = \"white\"\n",
    "        ax.text(\n",
    "            bar.get_width() - 5, bar.get_y() + bar.get_height() / 2, f\"{int(value)}\",\n",
    "            ha=\"right\", va=\"center\", fontsize=12, color=text_color, fontweight=\"bold\"\n",
    "        )\n",
    "\n",
    "    ax.set_xlabel(None)\n",
    "    ax.set_ylabel(None)\n",
    "    ax.spines[\"top\"].set_visible(False)\n",
    "    ax.spines[\"right\"].set_visible(False)\n",
    "    ax.spines[\"bottom\"].set_visible(False)\n",
    "    ax.spines[\"left\"].set_visible(False)\n",
    "\n",
    "    plt.title(f\"{pokemon_name}'s Stats (Enhanced Contrast)\")\n",
    "    plt.show()\n",
    "\n",
    "# Example Usage\n",
    "if __name__ == \"__main__\":\n",
    "    import pandas as pd\n",
    "    pokemon_df = pd.read_csv(\"Pokemon.csv\")\n",
    "    pokemon_df.columns = pokemon_df.columns.str.strip().str.lower()\n",
    "\n",
    "    generate_pokemon_stat_chart(pokemon_df, \"Gardevoir\")\n"
   ]
  },
  {
   "cell_type": "code",
   "execution_count": null,
   "id": "9d80b934-6c86-4ec6-998f-258dc723545f",
   "metadata": {},
   "outputs": [],
   "source": []
  },
  {
   "cell_type": "code",
   "execution_count": 18,
   "id": "0c92ad4a-fd35-4629-8805-a57791e534df",
   "metadata": {},
   "outputs": [],
   "source": [
    "# df = pokemon_df.max(numeric_only=True).to_frame(name=\"max_values\")  # Convert Series to DataFrame\n",
    "# df.drop(index=['national_number', 'generation', 'is_legendary'], inplace=True)  # Drop rows instead of columns\n",
    "\n",
    "# print(df.max())\n"
   ]
  },
  {
   "cell_type": "code",
   "execution_count": 3,
   "id": "8112d89f-ec0a-45ab-8b08-4db127c21803",
   "metadata": {},
   "outputs": [
    {
     "data": {
      "application/vnd.plotly.v1+json": {
       "config": {
        "plotlyServerURL": "https://plot.ly"
       },
       "data": [
        {
         "fill": "toself",
         "hovertemplate": "r=%{r}<br>theta=%{theta}<extra></extra>",
         "legendgroup": "",
         "line": {
          "color": "#FFA05A",
          "dash": "solid"
         },
         "marker": {
          "symbol": "circle"
         },
         "mode": "lines",
         "name": "",
         "r": {
          "bdata": "REFBfXNQREQ=",
          "dtype": "i1"
         },
         "showlegend": false,
         "subplot": "polar",
         "theta": [
          "hp",
          "attack",
          "defense",
          "sp_attack",
          "sp_defense",
          "speed",
          "hp",
          "hp"
         ],
         "type": "scatterpolar"
        }
       ],
       "layout": {
        "legend": {
         "tracegroupgap": 0
        },
        "margin": {
         "t": 60
        },
        "polar": {
         "angularaxis": {
          "direction": "clockwise",
          "rotation": 90
         },
         "domain": {
          "x": [
           0,
           1
          ],
          "y": [
           0,
           1
          ]
         },
         "radialaxis": {
          "range": [
           0,
           255
          ],
          "tickmode": "array",
          "tickvals": [
           0,
           51,
           102,
           153,
           204,
           255
          ],
          "visible": true
         }
        },
        "template": {
         "data": {
          "bar": [
           {
            "error_x": {
             "color": "#2a3f5f"
            },
            "error_y": {
             "color": "#2a3f5f"
            },
            "marker": {
             "line": {
              "color": "#E5ECF6",
              "width": 0.5
             },
             "pattern": {
              "fillmode": "overlay",
              "size": 10,
              "solidity": 0.2
             }
            },
            "type": "bar"
           }
          ],
          "barpolar": [
           {
            "marker": {
             "line": {
              "color": "#E5ECF6",
              "width": 0.5
             },
             "pattern": {
              "fillmode": "overlay",
              "size": 10,
              "solidity": 0.2
             }
            },
            "type": "barpolar"
           }
          ],
          "carpet": [
           {
            "aaxis": {
             "endlinecolor": "#2a3f5f",
             "gridcolor": "white",
             "linecolor": "white",
             "minorgridcolor": "white",
             "startlinecolor": "#2a3f5f"
            },
            "baxis": {
             "endlinecolor": "#2a3f5f",
             "gridcolor": "white",
             "linecolor": "white",
             "minorgridcolor": "white",
             "startlinecolor": "#2a3f5f"
            },
            "type": "carpet"
           }
          ],
          "choropleth": [
           {
            "colorbar": {
             "outlinewidth": 0,
             "ticks": ""
            },
            "type": "choropleth"
           }
          ],
          "contour": [
           {
            "colorbar": {
             "outlinewidth": 0,
             "ticks": ""
            },
            "colorscale": [
             [
              0,
              "#0d0887"
             ],
             [
              0.1111111111111111,
              "#46039f"
             ],
             [
              0.2222222222222222,
              "#7201a8"
             ],
             [
              0.3333333333333333,
              "#9c179e"
             ],
             [
              0.4444444444444444,
              "#bd3786"
             ],
             [
              0.5555555555555556,
              "#d8576b"
             ],
             [
              0.6666666666666666,
              "#ed7953"
             ],
             [
              0.7777777777777778,
              "#fb9f3a"
             ],
             [
              0.8888888888888888,
              "#fdca26"
             ],
             [
              1,
              "#f0f921"
             ]
            ],
            "type": "contour"
           }
          ],
          "contourcarpet": [
           {
            "colorbar": {
             "outlinewidth": 0,
             "ticks": ""
            },
            "type": "contourcarpet"
           }
          ],
          "heatmap": [
           {
            "colorbar": {
             "outlinewidth": 0,
             "ticks": ""
            },
            "colorscale": [
             [
              0,
              "#0d0887"
             ],
             [
              0.1111111111111111,
              "#46039f"
             ],
             [
              0.2222222222222222,
              "#7201a8"
             ],
             [
              0.3333333333333333,
              "#9c179e"
             ],
             [
              0.4444444444444444,
              "#bd3786"
             ],
             [
              0.5555555555555556,
              "#d8576b"
             ],
             [
              0.6666666666666666,
              "#ed7953"
             ],
             [
              0.7777777777777778,
              "#fb9f3a"
             ],
             [
              0.8888888888888888,
              "#fdca26"
             ],
             [
              1,
              "#f0f921"
             ]
            ],
            "type": "heatmap"
           }
          ],
          "histogram": [
           {
            "marker": {
             "pattern": {
              "fillmode": "overlay",
              "size": 10,
              "solidity": 0.2
             }
            },
            "type": "histogram"
           }
          ],
          "histogram2d": [
           {
            "colorbar": {
             "outlinewidth": 0,
             "ticks": ""
            },
            "colorscale": [
             [
              0,
              "#0d0887"
             ],
             [
              0.1111111111111111,
              "#46039f"
             ],
             [
              0.2222222222222222,
              "#7201a8"
             ],
             [
              0.3333333333333333,
              "#9c179e"
             ],
             [
              0.4444444444444444,
              "#bd3786"
             ],
             [
              0.5555555555555556,
              "#d8576b"
             ],
             [
              0.6666666666666666,
              "#ed7953"
             ],
             [
              0.7777777777777778,
              "#fb9f3a"
             ],
             [
              0.8888888888888888,
              "#fdca26"
             ],
             [
              1,
              "#f0f921"
             ]
            ],
            "type": "histogram2d"
           }
          ],
          "histogram2dcontour": [
           {
            "colorbar": {
             "outlinewidth": 0,
             "ticks": ""
            },
            "colorscale": [
             [
              0,
              "#0d0887"
             ],
             [
              0.1111111111111111,
              "#46039f"
             ],
             [
              0.2222222222222222,
              "#7201a8"
             ],
             [
              0.3333333333333333,
              "#9c179e"
             ],
             [
              0.4444444444444444,
              "#bd3786"
             ],
             [
              0.5555555555555556,
              "#d8576b"
             ],
             [
              0.6666666666666666,
              "#ed7953"
             ],
             [
              0.7777777777777778,
              "#fb9f3a"
             ],
             [
              0.8888888888888888,
              "#fdca26"
             ],
             [
              1,
              "#f0f921"
             ]
            ],
            "type": "histogram2dcontour"
           }
          ],
          "mesh3d": [
           {
            "colorbar": {
             "outlinewidth": 0,
             "ticks": ""
            },
            "type": "mesh3d"
           }
          ],
          "parcoords": [
           {
            "line": {
             "colorbar": {
              "outlinewidth": 0,
              "ticks": ""
             }
            },
            "type": "parcoords"
           }
          ],
          "pie": [
           {
            "automargin": true,
            "type": "pie"
           }
          ],
          "scatter": [
           {
            "fillpattern": {
             "fillmode": "overlay",
             "size": 10,
             "solidity": 0.2
            },
            "type": "scatter"
           }
          ],
          "scatter3d": [
           {
            "line": {
             "colorbar": {
              "outlinewidth": 0,
              "ticks": ""
             }
            },
            "marker": {
             "colorbar": {
              "outlinewidth": 0,
              "ticks": ""
             }
            },
            "type": "scatter3d"
           }
          ],
          "scattercarpet": [
           {
            "marker": {
             "colorbar": {
              "outlinewidth": 0,
              "ticks": ""
             }
            },
            "type": "scattercarpet"
           }
          ],
          "scattergeo": [
           {
            "marker": {
             "colorbar": {
              "outlinewidth": 0,
              "ticks": ""
             }
            },
            "type": "scattergeo"
           }
          ],
          "scattergl": [
           {
            "marker": {
             "colorbar": {
              "outlinewidth": 0,
              "ticks": ""
             }
            },
            "type": "scattergl"
           }
          ],
          "scattermap": [
           {
            "marker": {
             "colorbar": {
              "outlinewidth": 0,
              "ticks": ""
             }
            },
            "type": "scattermap"
           }
          ],
          "scattermapbox": [
           {
            "marker": {
             "colorbar": {
              "outlinewidth": 0,
              "ticks": ""
             }
            },
            "type": "scattermapbox"
           }
          ],
          "scatterpolar": [
           {
            "marker": {
             "colorbar": {
              "outlinewidth": 0,
              "ticks": ""
             }
            },
            "type": "scatterpolar"
           }
          ],
          "scatterpolargl": [
           {
            "marker": {
             "colorbar": {
              "outlinewidth": 0,
              "ticks": ""
             }
            },
            "type": "scatterpolargl"
           }
          ],
          "scatterternary": [
           {
            "marker": {
             "colorbar": {
              "outlinewidth": 0,
              "ticks": ""
             }
            },
            "type": "scatterternary"
           }
          ],
          "surface": [
           {
            "colorbar": {
             "outlinewidth": 0,
             "ticks": ""
            },
            "colorscale": [
             [
              0,
              "#0d0887"
             ],
             [
              0.1111111111111111,
              "#46039f"
             ],
             [
              0.2222222222222222,
              "#7201a8"
             ],
             [
              0.3333333333333333,
              "#9c179e"
             ],
             [
              0.4444444444444444,
              "#bd3786"
             ],
             [
              0.5555555555555556,
              "#d8576b"
             ],
             [
              0.6666666666666666,
              "#ed7953"
             ],
             [
              0.7777777777777778,
              "#fb9f3a"
             ],
             [
              0.8888888888888888,
              "#fdca26"
             ],
             [
              1,
              "#f0f921"
             ]
            ],
            "type": "surface"
           }
          ],
          "table": [
           {
            "cells": {
             "fill": {
              "color": "#EBF0F8"
             },
             "line": {
              "color": "white"
             }
            },
            "header": {
             "fill": {
              "color": "#C8D4E3"
             },
             "line": {
              "color": "white"
             }
            },
            "type": "table"
           }
          ]
         },
         "layout": {
          "annotationdefaults": {
           "arrowcolor": "#2a3f5f",
           "arrowhead": 0,
           "arrowwidth": 1
          },
          "autotypenumbers": "strict",
          "coloraxis": {
           "colorbar": {
            "outlinewidth": 0,
            "ticks": ""
           }
          },
          "colorscale": {
           "diverging": [
            [
             0,
             "#8e0152"
            ],
            [
             0.1,
             "#c51b7d"
            ],
            [
             0.2,
             "#de77ae"
            ],
            [
             0.3,
             "#f1b6da"
            ],
            [
             0.4,
             "#fde0ef"
            ],
            [
             0.5,
             "#f7f7f7"
            ],
            [
             0.6,
             "#e6f5d0"
            ],
            [
             0.7,
             "#b8e186"
            ],
            [
             0.8,
             "#7fbc41"
            ],
            [
             0.9,
             "#4d9221"
            ],
            [
             1,
             "#276419"
            ]
           ],
           "sequential": [
            [
             0,
             "#0d0887"
            ],
            [
             0.1111111111111111,
             "#46039f"
            ],
            [
             0.2222222222222222,
             "#7201a8"
            ],
            [
             0.3333333333333333,
             "#9c179e"
            ],
            [
             0.4444444444444444,
             "#bd3786"
            ],
            [
             0.5555555555555556,
             "#d8576b"
            ],
            [
             0.6666666666666666,
             "#ed7953"
            ],
            [
             0.7777777777777778,
             "#fb9f3a"
            ],
            [
             0.8888888888888888,
             "#fdca26"
            ],
            [
             1,
             "#f0f921"
            ]
           ],
           "sequentialminus": [
            [
             0,
             "#0d0887"
            ],
            [
             0.1111111111111111,
             "#46039f"
            ],
            [
             0.2222222222222222,
             "#7201a8"
            ],
            [
             0.3333333333333333,
             "#9c179e"
            ],
            [
             0.4444444444444444,
             "#bd3786"
            ],
            [
             0.5555555555555556,
             "#d8576b"
            ],
            [
             0.6666666666666666,
             "#ed7953"
            ],
            [
             0.7777777777777778,
             "#fb9f3a"
            ],
            [
             0.8888888888888888,
             "#fdca26"
            ],
            [
             1,
             "#f0f921"
            ]
           ]
          },
          "colorway": [
           "#636efa",
           "#EF553B",
           "#00cc96",
           "#ab63fa",
           "#FFA15A",
           "#19d3f3",
           "#FF6692",
           "#B6E880",
           "#FF97FF",
           "#FECB52"
          ],
          "font": {
           "color": "#2a3f5f"
          },
          "geo": {
           "bgcolor": "white",
           "lakecolor": "white",
           "landcolor": "#E5ECF6",
           "showlakes": true,
           "showland": true,
           "subunitcolor": "white"
          },
          "hoverlabel": {
           "align": "left"
          },
          "hovermode": "closest",
          "mapbox": {
           "style": "light"
          },
          "paper_bgcolor": "white",
          "plot_bgcolor": "#E5ECF6",
          "polar": {
           "angularaxis": {
            "gridcolor": "white",
            "linecolor": "white",
            "ticks": ""
           },
           "bgcolor": "#E5ECF6",
           "radialaxis": {
            "gridcolor": "white",
            "linecolor": "white",
            "ticks": ""
           }
          },
          "scene": {
           "xaxis": {
            "backgroundcolor": "#E5ECF6",
            "gridcolor": "white",
            "gridwidth": 2,
            "linecolor": "white",
            "showbackground": true,
            "ticks": "",
            "zerolinecolor": "white"
           },
           "yaxis": {
            "backgroundcolor": "#E5ECF6",
            "gridcolor": "white",
            "gridwidth": 2,
            "linecolor": "white",
            "showbackground": true,
            "ticks": "",
            "zerolinecolor": "white"
           },
           "zaxis": {
            "backgroundcolor": "#E5ECF6",
            "gridcolor": "white",
            "gridwidth": 2,
            "linecolor": "white",
            "showbackground": true,
            "ticks": "",
            "zerolinecolor": "white"
           }
          },
          "shapedefaults": {
           "line": {
            "color": "#2a3f5f"
           }
          },
          "ternary": {
           "aaxis": {
            "gridcolor": "white",
            "linecolor": "white",
            "ticks": ""
           },
           "baxis": {
            "gridcolor": "white",
            "linecolor": "white",
            "ticks": ""
           },
           "bgcolor": "#E5ECF6",
           "caxis": {
            "gridcolor": "white",
            "linecolor": "white",
            "ticks": ""
           }
          },
          "title": {
           "x": 0.05
          },
          "xaxis": {
           "automargin": true,
           "gridcolor": "white",
           "linecolor": "white",
           "ticks": "",
           "title": {
            "standoff": 15
           },
           "zerolinecolor": "white",
           "zerolinewidth": 2
          },
          "yaxis": {
           "automargin": true,
           "gridcolor": "white",
           "linecolor": "white",
           "ticks": "",
           "title": {
            "standoff": 15
           },
           "zerolinecolor": "white",
           "zerolinewidth": 2
          }
         }
        }
       }
      },
      "image/png": "[encoded data removed]"
     },
     "metadata": {},
     "output_type": "display_data"
    }
   ],
   "source": [
    "import pandas as pd\n",
    "import plotly.express as px\n",
    "import numpy as np\n",
    "from matplotlib.colors import to_rgb\n",
    "\n",
    "def generate_pokemon_stat_chart(pokemon_df, pokemon_name):\n",
    "    \"\"\"\n",
    "    Generates a radar chart displaying base stats for a given Pokémon.\n",
    "    Uses global max scaling and colors based on Pokémon type.\n",
    "    \"\"\"\n",
    "    pokemon_data = pokemon_df[pokemon_df[\"english_name\"] == pokemon_name].copy()\n",
    "    if pokemon_data.empty:\n",
    "        raise ValueError(f\"❌ No matching Pokémon found for '{pokemon_name}'.\")\n",
    "\n",
    "    selected_stats = [\"hp\", \"attack\", \"defense\", \"sp_attack\", \"sp_defense\", \"speed\"]\n",
    "    stat_values = pokemon_data[selected_stats].values.flatten()\n",
    "    global_max = pokemon_df[selected_stats].max().max()\n",
    "\n",
    "    type_colors = {\"psychic\": \"#FF69B4\", \"fairy\": \"#FFD700\", \"fire\": \"#FF4500\", \"water\": \"#1E90FF\", \"grass\": \"#32CD32\",\n",
    "                   \"electric\": \"#FFD700\", \"ice\": \"#00FFFF\", \"fighting\": \"#8B0000\", \"poison\": \"#800080\", \"ground\": \"#DEB887\",\n",
    "                   \"flying\": \"#87CEEB\", \"bug\": \"#9ACD32\", \"rock\": \"#A52A2A\", \"ghost\": \"#4B0082\", \"dragon\": \"#00008B\",\n",
    "                   \"dark\": \"#2F4F4F\", \"steel\": \"#B0C4DE\", \"normal\": \"#A9A9A9\"}\n",
    "\n",
    "    types = [t for t in pokemon_data[[\"primary_type\", \"secondary_type\"]].values.flatten() if pd.notna(t)]\n",
    "\n",
    "    if not types:\n",
    "        radar_color = \"#A9A9A9\"  # Default Normal type\n",
    "    elif len(types) == 1:\n",
    "        radar_color = type_colors.get(types[0].lower(), \"#A9A9A9\")\n",
    "    else:\n",
    "        rgb1, rgb2 = map(to_rgb, [type_colors.get(types[0].lower(), \"#A9A9A9\"), type_colors.get(types[1].lower(), \"#A9A9A9\")])\n",
    "        merged_rgb = tuple(np.mean([rgb1, rgb2], axis=0))\n",
    "        radar_color = f\"#{int(merged_rgb[0] * 255):02X}{int(merged_rgb[1] * 255):02X}{int(merged_rgb[2] * 255):02X}\"\n",
    "\n",
    "    fig = px.line_polar(\n",
    "        r=stat_values.tolist() + [stat_values[0]],  # Ensure closure\n",
    "        theta=selected_stats + [selected_stats[0]],  # Maintain correct order\n",
    "        line_close=True,\n",
    "    )\n",
    "\n",
    "    fig.update_traces(fill='toself', line_color=radar_color)\n",
    "    fig.update_layout(\n",
    "        polar=dict(\n",
    "            radialaxis=dict(\n",
    "                visible=True,\n",
    "                range=[0, global_max],\n",
    "                tickmode=\"array\",\n",
    "                tickvals=list(range(0, int(global_max) + 1, int(global_max // 5)))  # Dynamically set ticks\n",
    "            )\n",
    "        )\n",
    "    )\n",
    "\n",
    "    fig.show()\n",
    "\n",
    "# Example Usage\n",
    "if __name__ == \"__main__\":\n",
    "    pokemon_df = pd.read_csv(\"pokemon.csv\")\n",
    "    pokemon_df.columns = pokemon_df.columns.str.strip().str.lower()\n",
    "\n",
    "    generate_pokemon_stat_chart(pokemon_df, \"Gardevoir\")\n"
   ]
  },
  {
   "cell_type": "code",
   "execution_count": null,
   "id": "efccad3c-ff5b-4fb7-977b-c020bfbca4b2",
   "metadata": {},
   "outputs": [],
   "source": []
  },
  {
   "cell_type": "code",
   "execution_count": 35,
   "id": "97aa3e59-9955-44a3-bc61-bf6e1fb717b1",
   "metadata": {},
   "outputs": [
    {
     "data": {
      "application/vnd.plotly.v1+json": {
       "config": {
        "plotlyServerURL": "https://plot.ly"
       },
       "data": [
        {
         "hovertemplate": "r=%{r}<br>theta=%{theta}<extra></extra>",
         "legendgroup": "",
         "line": {
          "color": "#636efa",
          "dash": "solid"
         },
         "marker": {
          "symbol": "circle"
         },
         "mode": "lines",
         "name": "",
         "r": {
          "bdata": "IzcoMjJaIyM=",
          "dtype": "i1"
         },
         "showlegend": false,
         "subplot": "polar",
         "theta": [
          "HP",
          "Attack",
          "Defense",
          "Sp. Atk",
          "Sp. Def",
          "Speed",
          "HP",
          "HP"
         ],
         "type": "scatterpolar"
        }
       ],
       "layout": {
        "legend": {
         "tracegroupgap": 0
        },
        "polar": {
         "angularaxis": {
          "direction": "clockwise",
          "rotation": 90
         },
         "domain": {
          "x": [
           0,
           1
          ],
          "y": [
           0,
           1
          ]
         },
         "radialaxis": {
          "range": [
           0,
           255
          ],
          "showline": false,
          "showticklabels": false,
          "visible": true
         }
        },
        "template": {
         "data": {
          "bar": [
           {
            "error_x": {
             "color": "#2a3f5f"
            },
            "error_y": {
             "color": "#2a3f5f"
            },
            "marker": {
             "line": {
              "color": "#E5ECF6",
              "width": 0.5
             },
             "pattern": {
              "fillmode": "overlay",
              "size": 10,
              "solidity": 0.2
             }
            },
            "type": "bar"
           }
          ],
          "barpolar": [
           {
            "marker": {
             "line": {
              "color": "#E5ECF6",
              "width": 0.5
             },
             "pattern": {
              "fillmode": "overlay",
              "size": 10,
              "solidity": 0.2
             }
            },
            "type": "barpolar"
           }
          ],
          "carpet": [
           {
            "aaxis": {
             "endlinecolor": "#2a3f5f",
             "gridcolor": "white",
             "linecolor": "white",
             "minorgridcolor": "white",
             "startlinecolor": "#2a3f5f"
            },
            "baxis": {
             "endlinecolor": "#2a3f5f",
             "gridcolor": "white",
             "linecolor": "white",
             "minorgridcolor": "white",
             "startlinecolor": "#2a3f5f"
            },
            "type": "carpet"
           }
          ],
          "choropleth": [
           {
            "colorbar": {
             "outlinewidth": 0,
             "ticks": ""
            },
            "type": "choropleth"
           }
          ],
          "contour": [
           {
            "colorbar": {
             "outlinewidth": 0,
             "ticks": ""
            },
            "colorscale": [
             [
              0,
              "#0d0887"
             ],
             [
              0.1111111111111111,
              "#46039f"
             ],
             [
              0.2222222222222222,
              "#7201a8"
             ],
             [
              0.3333333333333333,
              "#9c179e"
             ],
             [
              0.4444444444444444,
              "#bd3786"
             ],
             [
              0.5555555555555556,
              "#d8576b"
             ],
             [
              0.6666666666666666,
              "#ed7953"
             ],
             [
              0.7777777777777778,
              "#fb9f3a"
             ],
             [
              0.8888888888888888,
              "#fdca26"
             ],
             [
              1,
              "#f0f921"
             ]
            ],
            "type": "contour"
           }
          ],
          "contourcarpet": [
           {
            "colorbar": {
             "outlinewidth": 0,
             "ticks": ""
            },
            "type": "contourcarpet"
           }
          ],
          "heatmap": [
           {
            "colorbar": {
             "outlinewidth": 0,
             "ticks": ""
            },
            "colorscale": [
             [
              0,
              "#0d0887"
             ],
             [
              0.1111111111111111,
              "#46039f"
             ],
             [
              0.2222222222222222,
              "#7201a8"
             ],
             [
              0.3333333333333333,
              "#9c179e"
             ],
             [
              0.4444444444444444,
              "#bd3786"
             ],
             [
              0.5555555555555556,
              "#d8576b"
             ],
             [
              0.6666666666666666,
              "#ed7953"
             ],
             [
              0.7777777777777778,
              "#fb9f3a"
             ],
             [
              0.8888888888888888,
              "#fdca26"
             ],
             [
              1,
              "#f0f921"
             ]
            ],
            "type": "heatmap"
           }
          ],
          "histogram": [
           {
            "marker": {
             "pattern": {
              "fillmode": "overlay",
              "size": 10,
              "solidity": 0.2
             }
            },
            "type": "histogram"
           }
          ],
          "histogram2d": [
           {
            "colorbar": {
             "outlinewidth": 0,
             "ticks": ""
            },
            "colorscale": [
             [
              0,
              "#0d0887"
             ],
             [
              0.1111111111111111,
              "#46039f"
             ],
             [
              0.2222222222222222,
              "#7201a8"
             ],
             [
              0.3333333333333333,
              "#9c179e"
             ],
             [
              0.4444444444444444,
              "#bd3786"
             ],
             [
              0.5555555555555556,
              "#d8576b"
             ],
             [
              0.6666666666666666,
              "#ed7953"
             ],
             [
              0.7777777777777778,
              "#fb9f3a"
             ],
             [
              0.8888888888888888,
              "#fdca26"
             ],
             [
              1,
              "#f0f921"
             ]
            ],
            "type": "histogram2d"
           }
          ],
          "histogram2dcontour": [
           {
            "colorbar": {
             "outlinewidth": 0,
             "ticks": ""
            },
            "colorscale": [
             [
              0,
              "#0d0887"
             ],
             [
              0.1111111111111111,
              "#46039f"
             ],
             [
              0.2222222222222222,
              "#7201a8"
             ],
             [
              0.3333333333333333,
              "#9c179e"
             ],
             [
              0.4444444444444444,
              "#bd3786"
             ],
             [
              0.5555555555555556,
              "#d8576b"
             ],
             [
              0.6666666666666666,
              "#ed7953"
             ],
             [
              0.7777777777777778,
              "#fb9f3a"
             ],
             [
              0.8888888888888888,
              "#fdca26"
             ],
             [
              1,
              "#f0f921"
             ]
            ],
            "type": "histogram2dcontour"
           }
          ],
          "mesh3d": [
           {
            "colorbar": {
             "outlinewidth": 0,
             "ticks": ""
            },
            "type": "mesh3d"
           }
          ],
          "parcoords": [
           {
            "line": {
             "colorbar": {
              "outlinewidth": 0,
              "ticks": ""
             }
            },
            "type": "parcoords"
           }
          ],
          "pie": [
           {
            "automargin": true,
            "type": "pie"
           }
          ],
          "scatter": [
           {
            "fillpattern": {
             "fillmode": "overlay",
             "size": 10,
             "solidity": 0.2
            },
            "type": "scatter"
           }
          ],
          "scatter3d": [
           {
            "line": {
             "colorbar": {
              "outlinewidth": 0,
              "ticks": ""
             }
            },
            "marker": {
             "colorbar": {
              "outlinewidth": 0,
              "ticks": ""
             }
            },
            "type": "scatter3d"
           }
          ],
          "scattercarpet": [
           {
            "marker": {
             "colorbar": {
              "outlinewidth": 0,
              "ticks": ""
             }
            },
            "type": "scattercarpet"
           }
          ],
          "scattergeo": [
           {
            "marker": {
             "colorbar": {
              "outlinewidth": 0,
              "ticks": ""
             }
            },
            "type": "scattergeo"
           }
          ],
          "scattergl": [
           {
            "marker": {
             "colorbar": {
              "outlinewidth": 0,
              "ticks": ""
             }
            },
            "type": "scattergl"
           }
          ],
          "scattermap": [
           {
            "marker": {
             "colorbar": {
              "outlinewidth": 0,
              "ticks": ""
             }
            },
            "type": "scattermap"
           }
          ],
          "scattermapbox": [
           {
            "marker": {
             "colorbar": {
              "outlinewidth": 0,
              "ticks": ""
             }
            },
            "type": "scattermapbox"
           }
          ],
          "scatterpolar": [
           {
            "marker": {
             "colorbar": {
              "outlinewidth": 0,
              "ticks": ""
             }
            },
            "type": "scatterpolar"
           }
          ],
          "scatterpolargl": [
           {
            "marker": {
             "colorbar": {
              "outlinewidth": 0,
              "ticks": ""
             }
            },
            "type": "scatterpolargl"
           }
          ],
          "scatterternary": [
           {
            "marker": {
             "colorbar": {
              "outlinewidth": 0,
              "ticks": ""
             }
            },
            "type": "scatterternary"
           }
          ],
          "surface": [
           {
            "colorbar": {
             "outlinewidth": 0,
             "ticks": ""
            },
            "colorscale": [
             [
              0,
              "#0d0887"
             ],
             [
              0.1111111111111111,
              "#46039f"
             ],
             [
              0.2222222222222222,
              "#7201a8"
             ],
             [
              0.3333333333333333,
              "#9c179e"
             ],
             [
              0.4444444444444444,
              "#bd3786"
             ],
             [
              0.5555555555555556,
              "#d8576b"
             ],
             [
              0.6666666666666666,
              "#ed7953"
             ],
             [
              0.7777777777777778,
              "#fb9f3a"
             ],
             [
              0.8888888888888888,
              "#fdca26"
             ],
             [
              1,
              "#f0f921"
             ]
            ],
            "type": "surface"
           }
          ],
          "table": [
           {
            "cells": {
             "fill": {
              "color": "#EBF0F8"
             },
             "line": {
              "color": "white"
             }
            },
            "header": {
             "fill": {
              "color": "#C8D4E3"
             },
             "line": {
              "color": "white"
             }
            },
            "type": "table"
           }
          ]
         },
         "layout": {
          "annotationdefaults": {
           "arrowcolor": "#2a3f5f",
           "arrowhead": 0,
           "arrowwidth": 1
          },
          "autotypenumbers": "strict",
          "coloraxis": {
           "colorbar": {
            "outlinewidth": 0,
            "ticks": ""
           }
          },
          "colorscale": {
           "diverging": [
            [
             0,
             "#8e0152"
            ],
            [
             0.1,
             "#c51b7d"
            ],
            [
             0.2,
             "#de77ae"
            ],
            [
             0.3,
             "#f1b6da"
            ],
            [
             0.4,
             "#fde0ef"
            ],
            [
             0.5,
             "#f7f7f7"
            ],
            [
             0.6,
             "#e6f5d0"
            ],
            [
             0.7,
             "#b8e186"
            ],
            [
             0.8,
             "#7fbc41"
            ],
            [
             0.9,
             "#4d9221"
            ],
            [
             1,
             "#276419"
            ]
           ],
           "sequential": [
            [
             0,
             "#0d0887"
            ],
            [
             0.1111111111111111,
             "#46039f"
            ],
            [
             0.2222222222222222,
             "#7201a8"
            ],
            [
             0.3333333333333333,
             "#9c179e"
            ],
            [
             0.4444444444444444,
             "#bd3786"
            ],
            [
             0.5555555555555556,
             "#d8576b"
            ],
            [
             0.6666666666666666,
             "#ed7953"
            ],
            [
             0.7777777777777778,
             "#fb9f3a"
            ],
            [
             0.8888888888888888,
             "#fdca26"
            ],
            [
             1,
             "#f0f921"
            ]
           ],
           "sequentialminus": [
            [
             0,
             "#0d0887"
            ],
            [
             0.1111111111111111,
             "#46039f"
            ],
            [
             0.2222222222222222,
             "#7201a8"
            ],
            [
             0.3333333333333333,
             "#9c179e"
            ],
            [
             0.4444444444444444,
             "#bd3786"
            ],
            [
             0.5555555555555556,
             "#d8576b"
            ],
            [
             0.6666666666666666,
             "#ed7953"
            ],
            [
             0.7777777777777778,
             "#fb9f3a"
            ],
            [
             0.8888888888888888,
             "#fdca26"
            ],
            [
             1,
             "#f0f921"
            ]
           ]
          },
          "colorway": [
           "#636efa",
           "#EF553B",
           "#00cc96",
           "#ab63fa",
           "#FFA15A",
           "#19d3f3",
           "#FF6692",
           "#B6E880",
           "#FF97FF",
           "#FECB52"
          ],
          "font": {
           "color": "#2a3f5f"
          },
          "geo": {
           "bgcolor": "white",
           "lakecolor": "white",
           "landcolor": "#E5ECF6",
           "showlakes": true,
           "showland": true,
           "subunitcolor": "white"
          },
          "hoverlabel": {
           "align": "left"
          },
          "hovermode": "closest",
          "mapbox": {
           "style": "light"
          },
          "paper_bgcolor": "white",
          "plot_bgcolor": "#E5ECF6",
          "polar": {
           "angularaxis": {
            "gridcolor": "white",
            "linecolor": "white",
            "ticks": ""
           },
           "bgcolor": "#E5ECF6",
           "radialaxis": {
            "gridcolor": "white",
            "linecolor": "white",
            "ticks": ""
           }
          },
          "scene": {
           "xaxis": {
            "backgroundcolor": "#E5ECF6",
            "gridcolor": "white",
            "gridwidth": 2,
            "linecolor": "white",
            "showbackground": true,
            "ticks": "",
            "zerolinecolor": "white"
           },
           "yaxis": {
            "backgroundcolor": "#E5ECF6",
            "gridcolor": "white",
            "gridwidth": 2,
            "linecolor": "white",
            "showbackground": true,
            "ticks": "",
            "zerolinecolor": "white"
           },
           "zaxis": {
            "backgroundcolor": "#E5ECF6",
            "gridcolor": "white",
            "gridwidth": 2,
            "linecolor": "white",
            "showbackground": true,
            "ticks": "",
            "zerolinecolor": "white"
           }
          },
          "shapedefaults": {
           "line": {
            "color": "#2a3f5f"
           }
          },
          "ternary": {
           "aaxis": {
            "gridcolor": "white",
            "linecolor": "white",
            "ticks": ""
           },
           "baxis": {
            "gridcolor": "white",
            "linecolor": "white",
            "ticks": ""
           },
           "bgcolor": "#E5ECF6",
           "caxis": {
            "gridcolor": "white",
            "linecolor": "white",
            "ticks": ""
           }
          },
          "title": {
           "x": 0.05
          },
          "xaxis": {
           "automargin": true,
           "gridcolor": "white",
           "linecolor": "white",
           "ticks": "",
           "title": {
            "standoff": 15
           },
           "zerolinecolor": "white",
           "zerolinewidth": 2
          },
          "yaxis": {
           "automargin": true,
           "gridcolor": "white",
           "linecolor": "white",
           "ticks": "",
           "title": {
            "standoff": 15
           },
           "zerolinecolor": "white",
           "zerolinewidth": 2
          }
         }
        },
        "title": {
         "text": "Pikachu's Stats Radar"
        }
       }
      },
      "image/png": "[encoded data removed]"
     },
     "metadata": {},
     "output_type": "display_data"
    }
   ],
   "source": [
    "import pandas as pd\n",
    "import matplotlib.pyplot as plt\n",
    "import plotly.express as px  # Import Plotly Express\n",
    "\n",
    "# Load Pokémon data\n",
    "df = pd.read_csv(\"Pokemon.csv\")\n",
    "df.columns = df.columns.str.strip().str.lower()  # Normalize headers\n",
    "\n",
    "# Ensure 'selected_name' is defined (Example: Hardcoded for testing)\n",
    "selected_name = \"Pikachu\"  # You can replace this with any Pokémon name dynamically\n",
    "\n",
    "# Get the selected Pokémon's row\n",
    "pokemon = df[df[\"english_name\"] == selected_name]\n",
    "\n",
    "if pokemon.empty:\n",
    "    raise ValueError(f\"❌ No matching Pokémon found for '{selected_name}'.\")\n",
    "\n",
    "pokemon = pokemon.iloc[0]  # Extract first row\n",
    "\n",
    "# Display stats\n",
    "stats = {\n",
    "    \"HP\": int(pokemon[\"hp\"]),\n",
    "    \"Attack\": int(pokemon[\"attack\"]),\n",
    "    \"Defense\": int(pokemon[\"defense\"]),\n",
    "    \"Sp. Atk\": int(pokemon[\"sp_attack\"]),\n",
    "    \"Sp. Def\": int(pokemon[\"sp_defense\"]),\n",
    "    \"Speed\": int(pokemon[\"speed\"]),\n",
    "}\n",
    "\n",
    "max_stat_value = df[[\"hp\", \"attack\", \"defense\", \"sp_attack\", \"sp_defense\", \"speed\"]].max().max()  # Get max stat across all columns\n",
    "\n",
    "# Radar chart\n",
    "categories = list(stats.keys())\n",
    "values = list(stats.values())\n",
    "\n",
    "fig = px.line_polar(\n",
    "    r=values + [values[0]],\n",
    "    theta=categories + [categories[0]],\n",
    "    line_close=True,\n",
    "    title=f\"{pokemon['english_name']}'s Stats Radar\",\n",
    ")\n",
    "\n",
    "fig.update_layout(\n",
    "    polar=dict(radialaxis=dict(visible=True, showticklabels=False, showline=False, range=[0, max_stat_value]))  # Normalize based on max stat\n",
    ")\n",
    "\n",
    "# Show plot\n",
    "fig.show()\n"
   ]
  },
  {
   "cell_type": "code",
   "execution_count": null,
   "id": "8f7841fd-9d7f-4c19-b4f0-cb621254d455",
   "metadata": {},
   "outputs": [],
   "source": []
  },
  {
   "cell_type": "code",
   "execution_count": 37,
   "id": "e8a7d2db-4aae-4cf6-b2a9-27e38227eea5",
   "metadata": {},
   "outputs": [
    {
     "ename": "ValueError",
     "evalue": "could not convert string to float: 'hp'",
     "output_type": "error",
     "traceback": [
      "\u001b[1;31m---------------------------------------------------------------------------\u001b[0m",
      "\u001b[1;31mValueError\u001b[0m                                Traceback (most recent call last)",
      "Cell \u001b[1;32mIn[37], line 25\u001b[0m\n\u001b[0;32m     23\u001b[0m \u001b[38;5;66;03m# Create hexbin plot using Matplotlib\u001b[39;00m\n\u001b[0;32m     24\u001b[0m fig, ax \u001b[38;5;241m=\u001b[39m plt\u001b[38;5;241m.\u001b[39msubplots(figsize\u001b[38;5;241m=\u001b[39m(\u001b[38;5;241m8\u001b[39m, \u001b[38;5;241m5\u001b[39m))\n\u001b[1;32m---> 25\u001b[0m hb \u001b[38;5;241m=\u001b[39m \u001b[43max\u001b[49m\u001b[38;5;241;43m.\u001b[39;49m\u001b[43mhexbin\u001b[49m\u001b[43m(\u001b[49m\n\u001b[0;32m     26\u001b[0m \u001b[43m    \u001b[49m\u001b[43mstats_df\u001b[49m\u001b[43m[\u001b[49m\u001b[38;5;124;43m\"\u001b[39;49m\u001b[38;5;124;43mStat\u001b[39;49m\u001b[38;5;124;43m\"\u001b[39;49m\u001b[43m]\u001b[49m\u001b[43m,\u001b[49m\u001b[43m \u001b[49m\u001b[43mstats_df\u001b[49m\u001b[43m[\u001b[49m\u001b[38;5;124;43m\"\u001b[39;49m\u001b[38;5;124;43mValue\u001b[39;49m\u001b[38;5;124;43m\"\u001b[39;49m\u001b[43m]\u001b[49m\u001b[43m,\u001b[49m\n\u001b[0;32m     27\u001b[0m \u001b[43m    \u001b[49m\u001b[43mgridsize\u001b[49m\u001b[38;5;241;43m=\u001b[39;49m\u001b[38;5;241;43m20\u001b[39;49m\u001b[43m,\u001b[49m\u001b[43m \u001b[49m\u001b[43mcmap\u001b[49m\u001b[38;5;241;43m=\u001b[39;49m\u001b[38;5;124;43m\"\u001b[39;49m\u001b[38;5;124;43mcoolwarm\u001b[39;49m\u001b[38;5;124;43m\"\u001b[39;49m\n\u001b[0;32m     28\u001b[0m \u001b[43m)\u001b[49m\n\u001b[0;32m     30\u001b[0m ax\u001b[38;5;241m.\u001b[39mset_title(\u001b[38;5;124mf\u001b[39m\u001b[38;5;124m\"\u001b[39m\u001b[38;5;132;01m{\u001b[39;00mpokemon[\u001b[38;5;124m'\u001b[39m\u001b[38;5;124menglish_name\u001b[39m\u001b[38;5;124m'\u001b[39m]\u001b[38;5;132;01m}\u001b[39;00m\u001b[38;5;124m'\u001b[39m\u001b[38;5;124ms Base Stats Hexbin Plot\u001b[39m\u001b[38;5;124m\"\u001b[39m)\n\u001b[0;32m     31\u001b[0m plt\u001b[38;5;241m.\u001b[39mcolorbar(hb, label\u001b[38;5;241m=\u001b[39m\u001b[38;5;124m\"\u001b[39m\u001b[38;5;124mDensity\u001b[39m\u001b[38;5;124m\"\u001b[39m)\n",
      "File \u001b[1;32m~\\AppData\\Local\\Programs\\Python\\Python312\\Lib\\site-packages\\matplotlib\\__init__.py:1486\u001b[0m, in \u001b[0;36m_preprocess_data.<locals>.inner\u001b[1;34m(ax, data, *args, **kwargs)\u001b[0m\n\u001b[0;32m   1483\u001b[0m \u001b[38;5;129m@functools\u001b[39m\u001b[38;5;241m.\u001b[39mwraps(func)\n\u001b[0;32m   1484\u001b[0m \u001b[38;5;28;01mdef\u001b[39;00m\u001b[38;5;250m \u001b[39m\u001b[38;5;21minner\u001b[39m(ax, \u001b[38;5;241m*\u001b[39margs, data\u001b[38;5;241m=\u001b[39m\u001b[38;5;28;01mNone\u001b[39;00m, \u001b[38;5;241m*\u001b[39m\u001b[38;5;241m*\u001b[39mkwargs):\n\u001b[0;32m   1485\u001b[0m     \u001b[38;5;28;01mif\u001b[39;00m data \u001b[38;5;129;01mis\u001b[39;00m \u001b[38;5;28;01mNone\u001b[39;00m:\n\u001b[1;32m-> 1486\u001b[0m         \u001b[38;5;28;01mreturn\u001b[39;00m \u001b[43mfunc\u001b[49m\u001b[43m(\u001b[49m\n\u001b[0;32m   1487\u001b[0m \u001b[43m            \u001b[49m\u001b[43max\u001b[49m\u001b[43m,\u001b[49m\n\u001b[0;32m   1488\u001b[0m \u001b[43m            \u001b[49m\u001b[38;5;241;43m*\u001b[39;49m\u001b[38;5;28;43mmap\u001b[39;49m\u001b[43m(\u001b[49m\u001b[43msanitize_sequence\u001b[49m\u001b[43m,\u001b[49m\u001b[43m \u001b[49m\u001b[43margs\u001b[49m\u001b[43m)\u001b[49m\u001b[43m,\u001b[49m\n\u001b[0;32m   1489\u001b[0m \u001b[43m            \u001b[49m\u001b[38;5;241;43m*\u001b[39;49m\u001b[38;5;241;43m*\u001b[39;49m\u001b[43m{\u001b[49m\u001b[43mk\u001b[49m\u001b[43m:\u001b[49m\u001b[43m \u001b[49m\u001b[43msanitize_sequence\u001b[49m\u001b[43m(\u001b[49m\u001b[43mv\u001b[49m\u001b[43m)\u001b[49m\u001b[43m \u001b[49m\u001b[38;5;28;43;01mfor\u001b[39;49;00m\u001b[43m \u001b[49m\u001b[43mk\u001b[49m\u001b[43m,\u001b[49m\u001b[43m \u001b[49m\u001b[43mv\u001b[49m\u001b[43m \u001b[49m\u001b[38;5;129;43;01min\u001b[39;49;00m\u001b[43m \u001b[49m\u001b[43mkwargs\u001b[49m\u001b[38;5;241;43m.\u001b[39;49m\u001b[43mitems\u001b[49m\u001b[43m(\u001b[49m\u001b[43m)\u001b[49m\u001b[43m}\u001b[49m\u001b[43m)\u001b[49m\n\u001b[0;32m   1491\u001b[0m     bound \u001b[38;5;241m=\u001b[39m new_sig\u001b[38;5;241m.\u001b[39mbind(ax, \u001b[38;5;241m*\u001b[39margs, \u001b[38;5;241m*\u001b[39m\u001b[38;5;241m*\u001b[39mkwargs)\n\u001b[0;32m   1492\u001b[0m     auto_label \u001b[38;5;241m=\u001b[39m (bound\u001b[38;5;241m.\u001b[39marguments\u001b[38;5;241m.\u001b[39mget(label_namer)\n\u001b[0;32m   1493\u001b[0m                   \u001b[38;5;129;01mor\u001b[39;00m bound\u001b[38;5;241m.\u001b[39mkwargs\u001b[38;5;241m.\u001b[39mget(label_namer))\n",
      "File \u001b[1;32m~\\AppData\\Local\\Programs\\Python\\Python312\\Lib\\site-packages\\matplotlib\\axes\\_axes.py:5092\u001b[0m, in \u001b[0;36mAxes.hexbin\u001b[1;34m(self, x, y, C, gridsize, bins, xscale, yscale, extent, cmap, norm, vmin, vmax, alpha, linewidths, edgecolors, reduce_C_function, mincnt, marginals, **kwargs)\u001b[0m\n\u001b[0;32m   5090\u001b[0m     ny \u001b[38;5;241m=\u001b[39m \u001b[38;5;28mint\u001b[39m(nx \u001b[38;5;241m/\u001b[39m math\u001b[38;5;241m.\u001b[39msqrt(\u001b[38;5;241m3\u001b[39m))\n\u001b[0;32m   5091\u001b[0m \u001b[38;5;66;03m# Count the number of data in each hexagon\u001b[39;00m\n\u001b[1;32m-> 5092\u001b[0m x \u001b[38;5;241m=\u001b[39m \u001b[43mnp\u001b[49m\u001b[38;5;241;43m.\u001b[39;49m\u001b[43masarray\u001b[49m\u001b[43m(\u001b[49m\u001b[43mx\u001b[49m\u001b[43m,\u001b[49m\u001b[43m \u001b[49m\u001b[38;5;28;43mfloat\u001b[39;49m\u001b[43m)\u001b[49m\n\u001b[0;32m   5093\u001b[0m y \u001b[38;5;241m=\u001b[39m np\u001b[38;5;241m.\u001b[39masarray(y, \u001b[38;5;28mfloat\u001b[39m)\n\u001b[0;32m   5095\u001b[0m \u001b[38;5;66;03m# Will be log()'d if necessary, and then rescaled.\u001b[39;00m\n",
      "\u001b[1;31mValueError\u001b[0m: could not convert string to float: 'hp'"
     ]
    },
    {
     "data": {
      "image/png": "[encoded data removed]",
      "text/plain": [
       "<Figure size 800x500 with 1 Axes>"
      ]
     },
     "metadata": {},
     "output_type": "display_data"
    }
   ],
   "source": [
    "import pandas as pd\n",
    "import matplotlib.pyplot as plt\n",
    "\n",
    "# Load Pokémon data\n",
    "df = pd.read_csv(\"Pokemon.csv\")\n",
    "df.columns = df.columns.str.strip().str.lower()\n",
    "\n",
    "selected_name = \"Pikachu\"  # Example Pokémon name\n",
    "\n",
    "# Get Pokémon row\n",
    "pokemon = df[df[\"english_name\"] == selected_name]\n",
    "\n",
    "if pokemon.empty:\n",
    "    raise ValueError(f\"❌ No matching Pokémon found for '{selected_name}'.\")\n",
    "\n",
    "pokemon = pokemon.iloc[0]\n",
    "\n",
    "stats_columns = [\"hp\", \"attack\", \"defense\", \"sp_attack\", \"sp_defense\", \"speed\"]\n",
    "stats_values = [int(pokemon[col]) for col in stats_columns]\n",
    "\n",
    "stats_df = pd.DataFrame({\"Stat\": stats_columns, \"Value\": stats_values})\n",
    "\n",
    "# Create hexbin plot using Matplotlib\n",
    "fig, ax = plt.subplots(figsize=(8, 5))\n",
    "hb = ax.hexbin(\n",
    "    stats_df[\"Stat\"], stats_df[\"Value\"],\n",
    "    gridsize=20, cmap=\"coolwarm\"\n",
    ")\n",
    "\n",
    "ax.set_title(f\"{pokemon['english_name']}'s Base Stats Hexbin Plot\")\n",
    "plt.colorbar(hb, label=\"Density\")\n",
    "plt.show()\n"
   ]
  },
  {
   "cell_type": "code",
   "execution_count": 4,
   "id": "4786c8e4-4f7e-4b60-8526-6b907c1b9e74",
   "metadata": {},
   "outputs": [],
   "source": [
    "import pandas as pd\n",
    "import matplotlib.pyplot as plt\n",
    "import base64\n",
    "from io import BytesIO\n",
    "\n",
    "# Load your CSV data\n",
    "df = pd.read_csv(\"pokemon.csv\")\n",
    "\n",
    "def generate_pokemon_comparison(names):\n",
    "    \"\"\"\n",
    "    Generates a bar chart comparing base stats of given Pokémon names.\n",
    "    Returns a base64-encoded PNG image with the correct 'data:image/png;base64,' prefix.\n",
    "    \"\"\"\n",
    "    names = [name.lower() for name in names]  # Case-insensitive match\n",
    "    filtered = df[df[\"english_name\"].str.lower().isin(names)]\n",
    "\n",
    "    if filtered.empty:\n",
    "        return None  # No match\n",
    "\n",
    "    stats_columns = [\"hp\", \"attack\", \"defense\", \"sp_attack\", \"sp_defense\", \"speed\"]\n",
    "    stats_data = filtered[[\"english_name\"] + stats_columns]\n",
    "\n",
    "    stats_data.set_index(\"english_name\", inplace=True)\n",
    "    stats_data = stats_data.T  # Transpose: stats on y-axis, Pokémon on x-axis\n",
    "\n",
    "    # Plotting\n",
    "    fig, ax = plt.subplots(figsize=(10, 6))\n",
    "    stats_data.plot(kind=\"bar\", ax=ax)\n",
    "    plt.title(\"Base Stats Comparison\")\n",
    "    plt.ylabel(\"Stat Value\")\n",
    "    plt.xlabel(\"Stats\")\n",
    "    plt.legend(title=\"Pokémon\")\n",
    "    plt.tight_layout()\n",
    "\n",
    "    # Convert to base64\n",
    "    buffer = BytesIO()\n",
    "    plt.savefig(buffer, format='png')\n",
    "    buffer.seek(0)\n",
    "    encoded = base64.b64encode(buffer.read()).decode('utf-8')\n",
    "    plt.close()\n",
    "\n",
    "    return f\"data:image/png;base64,{encoded}\"  # Return formatted base64 string\n",
    "\n",
    "# if __name__ == \"__main__\":\n",
    "#     # Example test: compare Pikachu and Bulbasaur\n",
    "#     img_base64 = generate_pokemon_comparison([\"Pikachu\", \"Bulbasaur\"])\n",
    "\n",
    "#     if img_base64:\n",
    "#         print(img_base64)  # Output the full formatted base64 string\n",
    "#     else:\n",
    "#         print(\"❌ No matching Pokémon found in your list.\")\n"
   ]
  },
  {
   "cell_type": "code",
   "execution_count": null,
   "id": "29952594-9377-49f4-b5ae-6c96cd5e3044",
   "metadata": {},
   "outputs": [],
   "source": []
  },
  {
   "cell_type": "code",
   "execution_count": null,
   "id": "ff73c3fd-17f7-435b-b94a-c4789275fb9a",
   "metadata": {},
   "outputs": [],
   "source": []
  }
 ],
 "metadata": {
  "kernelspec": {
   "display_name": "Python 3 (ipykernel)",
   "language": "python",
   "name": "python3"
  },
  "language_info": {
   "codemirror_mode": {
    "name": "ipython",
    "version": 3
   },
   "file_extension": ".py",
   "mimetype": "text/x-python",
   "name": "python",
   "nbconvert_exporter": "python",
   "pygments_lexer": "ipython3",
   "version": "3.12.1"
  }
 },
 "nbformat": 4,
 "nbformat_minor": 5
}
